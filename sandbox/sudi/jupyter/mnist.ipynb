{
 "cells": [
  {
   "cell_type": "code",
   "execution_count": 1,
   "metadata": {},
   "outputs": [
    {
     "name": "stderr",
     "output_type": "stream",
     "text": [
      "Using TensorFlow backend.\n",
      "/usr/local/Cellar/python3/3.6.3/Frameworks/Python.framework/Versions/3.6/lib/python3.6/importlib/_bootstrap.py:219: RuntimeWarning: compiletime version 3.5 of module 'tensorflow.python.framework.fast_tensor_util' does not match runtime version 3.6\n",
      "  return f(*args, **kwds)\n"
     ]
    }
   ],
   "source": [
    "from keras import layers\n",
    "from keras import models\n",
    "\n",
    "def model_summary(input_len,input_wid,input_dep):\n",
    "    model = models.Sequential()\n",
    "    model.add(layers.Conv2D(32, (3, 3), activation='relu', input_shape=(input_len, input_wid, input_dep)))\n",
    "    model.add(layers.MaxPooling2D((2, 2)))\n",
    "    model.add(layers.Conv2D(64, (3, 3), activation='relu'))\n",
    "    model.add(layers.MaxPooling2D((2, 2)))\n",
    "    model.add(layers.Conv2D(128, (3, 3), activation='relu'))\n",
    "    print(\"CONVOLUTION LAYERS:\")\n",
    "    model.summary()\n",
    "\n",
    "    model.add(layers.Flatten())\n",
    "    model.add(layers.Dense(64, activation='relu'))\n",
    "    model.add(layers.Dense(10, activation='softmax'))\n",
    "    print(\"+ DENSE LAYERS:\")\n",
    "    model.summary()"
   ]
  },
  {
   "cell_type": "markdown",
   "metadata": {},
   "source": [
    "# parameter calculations (conv nets)\n",
    "number of parameters at Layer(n) with filter sides f<sub>l</sub>,f<sub>w</sub> and D<sub>n</sub> slices\n",
    "\n",
    "num_param = D<sub>n</sub> \\* { (D<sub>n-1</sub>\\*f<sub>l</sub>*f<sub>w</sub>) + 1}\n",
    "\n",
    "i.e each filter with size=D<sub>n-1</sub>\\*f<sub>l</sub>\\*f<sub>w</sub> + 1 (bias) per slice of layer 'n'\n",
    "\n",
    "Note:\n",
    " - spatial dimention of input image has **no** bearing on number of parameters for the convnet layers.. just runtime & accuracy!\n",
    " - the input depth of-course impacts the number of parameters\n",
    " - the spatial dimension affects the number of parameters on the dense layers though..\n",
    "\n",
    "e.g. with this code:\n",
    "\n",
    "## example: convnet + max-pool (keras):\n",
    "<pre>\n",
    "from keras import layers\n",
    "from keras import models\n",
    "    \n",
    "input_len = 28\n",
    "input_wid = 28\n",
    "input_dep = 1\n",
    "model = models.Sequential()\n",
    "model.add(layers.Conv2D(32, (3, 3), activation='relu', input_shape=(input_len, input_wid, input_dep)))\n",
    "model.add(layers.MaxPooling2D((2, 2)))\n",
    "model.add(layers.Conv2D(64, (3, 3), activation='relu'))\n",
    "model.add(layers.MaxPooling2D((2, 2)))\n",
    "model.add(layers.Conv2D(64, (5, 5), activation='relu'))\n",
    "model.summary()\n",
    "</pre>\n",
    "\n",
    "> would give:\n",
    "\n",
    "|layer|shape|parameters|\n",
    "|-----|-----|----------|\n",
    "|conv_1 (3x3)  |(None, 26, 26, 32 |        320       \n",
    "|max_pooling_1 |(None, 13, 13, 32)|        0         \n",
    "|conv_2 (3x3)  |(None, 11, 11, 64)|        18496 \n",
    "|max_pooling_2 |(None, 5, 5, 64)  |        0\n",
    "|conv_3 (5x5)  |(None, 1, 1, 64)  |        102464\n",
    "\n",
    "## calculations:\n",
    "> **320**  = 32 \\*(1*9 + 1)\n",
    ">\n",
    ">**18496** = 64 \\*(32*9 + 1)\n",
    ">\n",
    ">**102464** = 64 \\*(64*25 + 1)\n",
    ">\n",
    "> Total:- 121,280\n",
    "\n",
    "## example: classification (dense):\n",
    "<pre>\n",
    "model.add(layers.Flatten())\n",
    "model.add(layers.Dense(64, activation='relu'))\n",
    "model.add(layers.Dense(10, activation='softmax'))\n",
    "</pre>\n",
    "\n"
   ]
  },
  {
   "cell_type": "code",
   "execution_count": 2,
   "metadata": {},
   "outputs": [
    {
     "name": "stdout",
     "output_type": "stream",
     "text": [
      "CONVOLUTION LAYERS:\n",
      "_________________________________________________________________\n",
      "Layer (type)                 Output Shape              Param #   \n",
      "=================================================================\n",
      "conv2d_1 (Conv2D)            (None, 26, 26, 32)        896       \n",
      "_________________________________________________________________\n",
      "max_pooling2d_1 (MaxPooling2 (None, 13, 13, 32)        0         \n",
      "_________________________________________________________________\n",
      "conv2d_2 (Conv2D)            (None, 11, 11, 64)        18496     \n",
      "_________________________________________________________________\n",
      "max_pooling2d_2 (MaxPooling2 (None, 5, 5, 64)          0         \n",
      "_________________________________________________________________\n",
      "conv2d_3 (Conv2D)            (None, 3, 3, 128)         73856     \n",
      "=================================================================\n",
      "Total params: 93,248\n",
      "Trainable params: 93,248\n",
      "Non-trainable params: 0\n",
      "_________________________________________________________________\n",
      "+ DENSE LAYERS:\n",
      "_________________________________________________________________\n",
      "Layer (type)                 Output Shape              Param #   \n",
      "=================================================================\n",
      "conv2d_1 (Conv2D)            (None, 26, 26, 32)        896       \n",
      "_________________________________________________________________\n",
      "max_pooling2d_1 (MaxPooling2 (None, 13, 13, 32)        0         \n",
      "_________________________________________________________________\n",
      "conv2d_2 (Conv2D)            (None, 11, 11, 64)        18496     \n",
      "_________________________________________________________________\n",
      "max_pooling2d_2 (MaxPooling2 (None, 5, 5, 64)          0         \n",
      "_________________________________________________________________\n",
      "conv2d_3 (Conv2D)            (None, 3, 3, 128)         73856     \n",
      "_________________________________________________________________\n",
      "flatten_1 (Flatten)          (None, 1152)              0         \n",
      "_________________________________________________________________\n",
      "dense_1 (Dense)              (None, 64)                73792     \n",
      "_________________________________________________________________\n",
      "dense_2 (Dense)              (None, 10)                650       \n",
      "=================================================================\n",
      "Total params: 167,690\n",
      "Trainable params: 167,690\n",
      "Non-trainable params: 0\n",
      "_________________________________________________________________\n"
     ]
    }
   ],
   "source": [
    "input_len = 28\n",
    "input_wid = 28\n",
    "input_dep = 3\n",
    "model_summary(input_len,input_wid,input_dep)"
   ]
  },
  {
   "cell_type": "code",
   "execution_count": 3,
   "metadata": {},
   "outputs": [
    {
     "name": "stdout",
     "output_type": "stream",
     "text": [
      "CONVOLUTION LAYERS:\n",
      "_________________________________________________________________\n",
      "Layer (type)                 Output Shape              Param #   \n",
      "=================================================================\n",
      "conv2d_4 (Conv2D)            (None, 126, 126, 32)      896       \n",
      "_________________________________________________________________\n",
      "max_pooling2d_3 (MaxPooling2 (None, 63, 63, 32)        0         \n",
      "_________________________________________________________________\n",
      "conv2d_5 (Conv2D)            (None, 61, 61, 64)        18496     \n",
      "_________________________________________________________________\n",
      "max_pooling2d_4 (MaxPooling2 (None, 30, 30, 64)        0         \n",
      "_________________________________________________________________\n",
      "conv2d_6 (Conv2D)            (None, 28, 28, 128)       73856     \n",
      "=================================================================\n",
      "Total params: 93,248\n",
      "Trainable params: 93,248\n",
      "Non-trainable params: 0\n",
      "_________________________________________________________________\n",
      "+ DENSE LAYERS:\n",
      "_________________________________________________________________\n",
      "Layer (type)                 Output Shape              Param #   \n",
      "=================================================================\n",
      "conv2d_4 (Conv2D)            (None, 126, 126, 32)      896       \n",
      "_________________________________________________________________\n",
      "max_pooling2d_3 (MaxPooling2 (None, 63, 63, 32)        0         \n",
      "_________________________________________________________________\n",
      "conv2d_5 (Conv2D)            (None, 61, 61, 64)        18496     \n",
      "_________________________________________________________________\n",
      "max_pooling2d_4 (MaxPooling2 (None, 30, 30, 64)        0         \n",
      "_________________________________________________________________\n",
      "conv2d_6 (Conv2D)            (None, 28, 28, 128)       73856     \n",
      "_________________________________________________________________\n",
      "flatten_2 (Flatten)          (None, 100352)            0         \n",
      "_________________________________________________________________\n",
      "dense_3 (Dense)              (None, 64)                6422592   \n",
      "_________________________________________________________________\n",
      "dense_4 (Dense)              (None, 10)                650       \n",
      "=================================================================\n",
      "Total params: 6,516,490\n",
      "Trainable params: 6,516,490\n",
      "Non-trainable params: 0\n",
      "_________________________________________________________________\n"
     ]
    }
   ],
   "source": [
    "input_len = 128\n",
    "input_wid = 128\n",
    "input_dep = 3\n",
    "model_summary(input_len,input_wid,input_dep)"
   ]
  },
  {
   "cell_type": "code",
   "execution_count": 4,
   "metadata": {},
   "outputs": [
    {
     "name": "stdout",
     "output_type": "stream",
     "text": [
      "percent of dense/total=98.569\n"
     ]
    }
   ],
   "source": [
    "# taken from the network above network configuration\n",
    "conv      = 93248\n",
    "total     = 6516490\n",
    "\n",
    "# calculations\n",
    "pct_conv  = (conv/total)*100.\n",
    "pct_dense = 100. - pct_conv\n",
    "print (\"percent of dense/total=%2.3f\"%(pct_dense))"
   ]
  },
  {
   "cell_type": "code",
   "execution_count": null,
   "metadata": {},
   "outputs": [],
   "source": []
  }
 ],
 "metadata": {
  "kernelspec": {
   "display_name": "Python 3",
   "language": "python",
   "name": "python3"
  },
  "language_info": {
   "codemirror_mode": {
    "name": "ipython",
    "version": 3
   },
   "file_extension": ".py",
   "mimetype": "text/x-python",
   "name": "python",
   "nbconvert_exporter": "python",
   "pygments_lexer": "ipython3",
   "version": "3.6.3"
  }
 },
 "nbformat": 4,
 "nbformat_minor": 2
}
