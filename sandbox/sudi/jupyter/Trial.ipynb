{
 "cells": [
  {
   "cell_type": "markdown",
   "metadata": {},
   "source": [
    "# attempting keras + iPy"
   ]
  },
  {
   "cell_type": "code",
   "execution_count": 1,
   "metadata": {},
   "outputs": [
    {
     "name": "stderr",
     "output_type": "stream",
     "text": [
      "Using TensorFlow backend.\n",
      "/usr/local/Cellar/python3/3.6.3/Frameworks/Python.framework/Versions/3.6/lib/python3.6/importlib/_bootstrap.py:219: RuntimeWarning: compiletime version 3.5 of module 'tensorflow.python.framework.fast_tensor_util' does not match runtime version 3.6\n",
      "  return f(*args, **kwds)\n"
     ]
    }
   ],
   "source": [
    "from keras import models\n",
    "from keras import layers\n",
    "from keras import optimizers\n",
    "from keras import regularizers\n",
    "\n",
    "import numpy as np\n",
    "import matplotlib.pyplot as plt"
   ]
  },
  {
   "cell_type": "code",
   "execution_count": 2,
   "metadata": {},
   "outputs": [],
   "source": [
    "def plot_model(history) :\n",
    "    acc      = history.history['acc']\n",
    "    val_acc  = history.history['val_acc']\n",
    "    loss     = history.history['loss']\n",
    "    val_loss = history.history['val_loss']\n",
    "\n",
    "    epochs = range(1, len(acc) + 1)\n",
    "\n",
    "    # \"bo\" is for \"blue dot\"\n",
    "    plt.plot(epochs, loss, 'bo', label='Training loss')\n",
    "    # b is for \"solid blue line\"\n",
    "    plt.plot(epochs, val_loss, 'b', label='Validation loss')\n",
    "    plt.title('Training and validation loss')\n",
    "    plt.xlabel('Epochs')\n",
    "    plt.ylabel('Loss')\n",
    "    plt.legend()\n",
    "\n",
    "    plt.show()"
   ]
  },
  {
   "cell_type": "code",
   "execution_count": 14,
   "metadata": {},
   "outputs": [],
   "source": [
    "def train_model(x_train,y_train, x_val=None,y_val=None,\n",
    "                do_val=0,\n",
    "                hidden=[32,16],\n",
    "                act='relu', opt='rmsprop',loss='mse',\n",
    "                l2_reg_rate = 0.1,\n",
    "                batch_size=512,\n",
    "                epochs=10):\n",
    "    model = models.Sequential()\n",
    "    \n",
    "    # fixed for IMDB\n",
    "    input_size =10000\n",
    "    output_size=1    \n",
    "\n",
    "    for (indx,depth) in enumerate(hidden):\n",
    "        if (indx==0):\n",
    "            model.add(layers.Dense(depth, activation=act, input_shape=(input_size,),kernel_regularizer=regularizers.l2(l2_reg_rate)))\n",
    "        else:\n",
    "            model.add(layers.Dense(depth, activation=act,kernel_regularizer=regularizers.l2(l2_reg_rate)))\n",
    "            \n",
    "    # output layer\n",
    "    model.add(layers.Dense(output_size, activation='sigmoid'))\n",
    "    \n",
    "    arch = [input_size, hidden, output_size]\n",
    "\n",
    "    model.compile(optimizer=opt,\n",
    "                  loss=loss,\n",
    "                  metrics=['accuracy'])\n",
    "    \n",
    "    model.summary()\n",
    "    \n",
    "    print (\"Network INFO: \")\n",
    "    print (\"\\tLayers:\",arch)\n",
    "    print (\"\\t Hyper: act=%s opt=%s loss=%s batch_size=%d l2_reg=%f\" %(act,opt,loss,batch_size,l2_reg_rate));\n",
    "    if (do_val):\n",
    "        history = model.fit(x_train, y_train, epochs=epochs, batch_size=batch_size, validation_data=(x_val,y_val))\n",
    "        plot_model(history)\n",
    "    else:\n",
    "        history = model.fit(x_train, y_train, epochs=epochs, batch_size=batch_size)\n",
    "\n",
    "    print (\"INFO: model evaluation .. \")\n",
    "    results = model.evaluate(x_test, y_test)\n",
    "    return results"
   ]
  },
  {
   "cell_type": "markdown",
   "metadata": {},
   "source": [
    "# IMDB"
   ]
  },
  {
   "cell_type": "code",
   "execution_count": 4,
   "metadata": {},
   "outputs": [],
   "source": [
    "from keras.datasets import imdb\n",
    "\n",
    "(train_data, train_labels), (test_data, test_labels) = imdb.load_data(num_words=10000)\n",
    "\n",
    "def vectorize_sequences(sequences, dimension=10000):\n",
    "    # Create an all-zero matrix of shape (len(sequences), dimension)\n",
    "    results = np.zeros((len(sequences), dimension))\n",
    "    for i, sequence in enumerate(sequences):\n",
    "        results[i, sequence] = 1.  # set specific indices of results[i] to 1s\n",
    "    return results\n",
    "\n",
    "# Our vectorized training data\n",
    "x_train = vectorize_sequences(train_data)\n",
    "# Our vectorized test data\n",
    "x_test = vectorize_sequences(test_data)\n",
    "\n",
    "# Our vectorized labels\n",
    "y_train = np.asarray(train_labels).astype('float32')\n",
    "y_test  = np.asarray(test_labels).astype ('float32')\n",
    "\n",
    "# setup the validation & training data\n",
    "# ensure there's no information leak!!\n",
    "x_val   = x_train[:10000]\n",
    "x_train = x_train[10000:]\n",
    "y_val   = y_train[:10000]\n",
    "y_train = y_train[10000:]"
   ]
  },
  {
   "cell_type": "markdown",
   "metadata": {},
   "source": [
    "---\n",
    "## re-train a new network"
   ]
  },
  {
   "cell_type": "code",
   "execution_count": 5,
   "metadata": {},
   "outputs": [
    {
     "name": "stdout",
     "output_type": "stream",
     "text": [
      "With regularization: 0.0\n",
      "Network INFO: \n",
      "\tLayers: [10000, [1024, 1024, 1024], 1]\n",
      "\t Hyper: act=relu opt=rmsprop loss=mse batch_size=512 l2_reg=0.000000\n",
      "Train on 15000 samples, validate on 10000 samples\n",
      "Epoch 1/10\n",
      "15000/15000 [==============================] - 37s 2ms/step - loss: 0.2099 - acc: 0.7150 - val_loss: 0.1129 - val_acc: 0.8423\n",
      "Epoch 2/10\n",
      "15000/15000 [==============================] - 37s 2ms/step - loss: 0.0720 - acc: 0.9032 - val_loss: 0.0880 - val_acc: 0.8768\n",
      "Epoch 3/10\n",
      "15000/15000 [==============================] - 35s 2ms/step - loss: 0.0314 - acc: 0.9611 - val_loss: 0.0960 - val_acc: 0.8777\n",
      "Epoch 4/10\n",
      "15000/15000 [==============================] - 35s 2ms/step - loss: 0.0055 - acc: 0.9939 - val_loss: 0.1392 - val_acc: 0.8353\n",
      "Epoch 5/10\n",
      "15000/15000 [==============================] - 34s 2ms/step - loss: 0.0181 - acc: 0.9780 - val_loss: 0.0887 - val_acc: 0.8891\n",
      "Epoch 6/10\n",
      "15000/15000 [==============================] - 31s 2ms/step - loss: 0.0012 - acc: 0.9987 - val_loss: 0.0934 - val_acc: 0.8848\n",
      "Epoch 7/10\n",
      "15000/15000 [==============================] - 31s 2ms/step - loss: 6.0144e-04 - acc: 0.9994 - val_loss: 0.0937 - val_acc: 0.8878\n",
      "Epoch 8/10\n",
      "15000/15000 [==============================] - 31s 2ms/step - loss: 0.0350 - acc: 0.9619 - val_loss: 0.0911 - val_acc: 0.8925\n",
      "Epoch 9/10\n",
      "15000/15000 [==============================] - 31s 2ms/step - loss: 5.5924e-04 - acc: 0.9993 - val_loss: 0.0938 - val_acc: 0.8902\n",
      "Epoch 10/10\n",
      "15000/15000 [==============================] - 32s 2ms/step - loss: 2.0032e-04 - acc: 0.9998 - val_loss: 0.0946 - val_acc: 0.8915\n"
     ]
    },
    {
     "data": {
      "image/png": "[encoded data removed]",
      "text/plain": [
       "<matplotlib.figure.Figure at 0x1024eca58>"
      ]
     },
     "metadata": {},
     "output_type": "display_data"
    },
    {
     "name": "stdout",
     "output_type": "stream",
     "text": [
      "INFO: model evaluation .. \n",
      "25000/25000 [==============================] - 28s 1ms/step\n"
     ]
    },
    {
     "data": {
      "text/plain": [
       "[0.10267968902315945, 0.88175999999999999]"
      ]
     },
     "execution_count": 5,
     "metadata": {},
     "output_type": "execute_result"
    }
   ],
   "source": [
    "set_l2_reg = 0.\n",
    "print (\"With regularization:\",set_l2_reg)\n",
    "results = train_model(epochs=10,\n",
    "                      hidden=[1024,1024,1024],\n",
    "                      x_train=x_train,y_train=y_train,x_val=x_val,y_val=y_val,do_val=1,\n",
    "                      l2_reg_rate=set_l2_reg\n",
    "                     )\n",
    "results"
   ]
  },
  {
   "cell_type": "code",
   "execution_count": 6,
   "metadata": {},
   "outputs": [
    {
     "name": "stdout",
     "output_type": "stream",
     "text": [
      "With regularization: 0.01\n",
      "Network INFO: \n",
      "\tLayers: [10000, [1024, 1024, 1024], 1]\n",
      "\t Hyper: act=relu opt=rmsprop loss=mse batch_size=512 l2_reg=0.010000\n",
      "Train on 15000 samples, validate on 10000 samples\n",
      "Epoch 1/10\n",
      "15000/15000 [==============================] - 37s 2ms/step - loss: 9.4788 - acc: 0.5725 - val_loss: 1.6052 - val_acc: 0.6071\n",
      "Epoch 2/10\n",
      "15000/15000 [==============================] - 33s 2ms/step - loss: 0.6581 - acc: 0.7243 - val_loss: 0.2434 - val_acc: 0.8316\n",
      "Epoch 3/10\n",
      "15000/15000 [==============================] - 36s 2ms/step - loss: 0.2442 - acc: 0.7889 - val_loss: 0.2104 - val_acc: 0.8572\n",
      "Epoch 4/10\n",
      "15000/15000 [==============================] - 35s 2ms/step - loss: 0.2257 - acc: 0.8257 - val_loss: 0.2195 - val_acc: 0.8227\n",
      "Epoch 5/10\n",
      "15000/15000 [==============================] - 32s 2ms/step - loss: 0.2238 - acc: 0.8267 - val_loss: 0.2090 - val_acc: 0.8510\n",
      "Epoch 6/10\n",
      "15000/15000 [==============================] - 33s 2ms/step - loss: 0.2144 - acc: 0.8409 - val_loss: 0.2061 - val_acc: 0.8430\n",
      "Epoch 7/10\n",
      "15000/15000 [==============================] - 32s 2ms/step - loss: 0.2083 - acc: 0.8431 - val_loss: 0.2242 - val_acc: 0.8202\n",
      "Epoch 8/10\n",
      "15000/15000 [==============================] - 33s 2ms/step - loss: 0.2055 - acc: 0.8477 - val_loss: 0.2160 - val_acc: 0.8247\n",
      "Epoch 9/10\n",
      "15000/15000 [==============================] - 32s 2ms/step - loss: 0.1954 - acc: 0.8605 - val_loss: 0.2199 - val_acc: 0.8153\n",
      "Epoch 10/10\n",
      "15000/15000 [==============================] - 32s 2ms/step - loss: 0.1918 - acc: 0.8643 - val_loss: 0.2151 - val_acc: 0.8249\n"
     ]
    },
    {
     "data": {
      "image/png": "[encoded data removed]",
      "text/plain": [
       "<matplotlib.figure.Figure at 0x11094d390>"
      ]
     },
     "metadata": {},
     "output_type": "display_data"
    },
    {
     "name": "stdout",
     "output_type": "stream",
     "text": [
      "INFO: model evaluation .. \n",
      "25000/25000 [==============================] - 47s 2ms/step\n"
     ]
    },
    {
     "data": {
      "text/plain": [
       "[0.21916671738624574, 0.81864000000000003]"
      ]
     },
     "execution_count": 6,
     "metadata": {},
     "output_type": "execute_result"
    }
   ],
   "source": [
    "set_l2_reg = 0.01\n",
    "print (\"With regularization:\",set_l2_reg)\n",
    "results = train_model(epochs=10,\n",
    "                      hidden=[1024,1024,1024],\n",
    "                      x_train=x_train,y_train=y_train,x_val=x_val,y_val=y_val,do_val=1,\n",
    "                      l2_reg_rate=set_l2_reg\n",
    "                     )\n",
    "results"
   ]
  },
  {
   "cell_type": "code",
   "execution_count": 7,
   "metadata": {
    "scrolled": false
   },
   "outputs": [
    {
     "name": "stdout",
     "output_type": "stream",
     "text": [
      "With regularization: 0.001\n",
      "Network INFO: \n",
      "\tLayers: [10000, [1024, 1024, 1024], 1]\n",
      "\t Hyper: act=relu opt=rmsprop loss=mse batch_size=512 l2_reg=0.001000\n",
      "Train on 15000 samples, validate on 10000 samples\n",
      "Epoch 1/10\n",
      "15000/15000 [==============================] - 37s 2ms/step - loss: 1.3396 - acc: 0.6789 - val_loss: 0.4827 - val_acc: 0.7501\n",
      "Epoch 2/10\n",
      "15000/15000 [==============================] - 32s 2ms/step - loss: 0.2674 - acc: 0.8543 - val_loss: 0.1842 - val_acc: 0.8511\n",
      "Epoch 3/10\n",
      "15000/15000 [==============================] - 32s 2ms/step - loss: 0.1518 - acc: 0.8769 - val_loss: 0.1376 - val_acc: 0.8806\n",
      "Epoch 4/10\n",
      "15000/15000 [==============================] - 32s 2ms/step - loss: 0.1201 - acc: 0.9045 - val_loss: 0.2150 - val_acc: 0.7712\n",
      "Epoch 5/10\n",
      "15000/15000 [==============================] - 33s 2ms/step - loss: 0.1145 - acc: 0.9065 - val_loss: 0.1252 - val_acc: 0.8823\n",
      "Epoch 6/10\n",
      "15000/15000 [==============================] - 32s 2ms/step - loss: 0.1050 - acc: 0.9162 - val_loss: 0.1363 - val_acc: 0.8685\n",
      "Epoch 7/10\n",
      "15000/15000 [==============================] - 32s 2ms/step - loss: 0.1012 - acc: 0.9185 - val_loss: 0.1318 - val_acc: 0.8746\n",
      "Epoch 8/10\n",
      "15000/15000 [==============================] - 32s 2ms/step - loss: 0.0933 - acc: 0.9283 - val_loss: 0.1238 - val_acc: 0.8796\n",
      "Epoch 9/10\n",
      "15000/15000 [==============================] - 32s 2ms/step - loss: 0.0890 - acc: 0.9321 - val_loss: 0.1320 - val_acc: 0.8706\n",
      "Epoch 10/10\n",
      "15000/15000 [==============================] - 32s 2ms/step - loss: 0.0887 - acc: 0.9317 - val_loss: 0.1245 - val_acc: 0.8777\n"
     ]
    },
    {
     "data": {
      "image/png": "[encoded data removed]",
      "text/plain": [
       "<matplotlib.figure.Figure at 0x1117e7630>"
      ]
     },
     "metadata": {},
     "output_type": "display_data"
    },
    {
     "name": "stdout",
     "output_type": "stream",
     "text": [
      "INFO: model evaluation .. \n",
      "25000/25000 [==============================] - 44s 2ms/step\n"
     ]
    },
    {
     "data": {
      "text/plain": [
       "[0.1281211919927597, 0.87524000000000002]"
      ]
     },
     "execution_count": 7,
     "metadata": {},
     "output_type": "execute_result"
    }
   ],
   "source": [
    "set_l2_reg = 0.001\n",
    "print (\"With regularization:\",set_l2_reg)\n",
    "results = train_model(epochs=10,\n",
    "                      hidden=[1024,1024,1024],\n",
    "                      x_train=x_train,y_train=y_train,x_val=x_val,y_val=y_val,do_val=1,\n",
    "                      l2_reg_rate=set_l2_reg\n",
    "                     )\n",
    "results"
   ]
  },
  {
   "cell_type": "code",
   "execution_count": 8,
   "metadata": {},
   "outputs": [
    {
     "name": "stdout",
     "output_type": "stream",
     "text": [
      "With regularization: 0.0001\n",
      "Network INFO: \n",
      "\tLayers: [10000, [1024, 1024, 1024], 1]\n",
      "\t Hyper: act=relu opt=rmsprop loss=mse batch_size=512 l2_reg=0.000100\n",
      "Train on 15000 samples, validate on 10000 samples\n",
      "Epoch 1/10\n",
      "15000/15000 [==============================] - 36s 2ms/step - loss: 0.4218 - acc: 0.6802 - val_loss: 0.2224 - val_acc: 0.8555\n",
      "Epoch 2/10\n",
      "15000/15000 [==============================] - 32s 2ms/step - loss: 0.1654 - acc: 0.8895 - val_loss: 0.1574 - val_acc: 0.8688\n",
      "Epoch 3/10\n",
      "15000/15000 [==============================] - 31s 2ms/step - loss: 0.1039 - acc: 0.9246 - val_loss: 0.1270 - val_acc: 0.8816\n",
      "Epoch 4/10\n",
      "15000/15000 [==============================] - 32s 2ms/step - loss: 0.0748 - acc: 0.9457 - val_loss: 0.1699 - val_acc: 0.8180\n",
      "Epoch 5/10\n",
      "15000/15000 [==============================] - 32s 2ms/step - loss: 0.0605 - acc: 0.9608 - val_loss: 0.1160 - val_acc: 0.8859\n",
      "Epoch 6/10\n",
      "15000/15000 [==============================] - 32s 2ms/step - loss: 0.0513 - acc: 0.9673 - val_loss: 0.1162 - val_acc: 0.8830\n",
      "Epoch 7/10\n",
      "15000/15000 [==============================] - 32s 2ms/step - loss: 0.0534 - acc: 0.9640 - val_loss: 0.1363 - val_acc: 0.8614\n",
      "Epoch 8/10\n",
      "15000/15000 [==============================] - 32s 2ms/step - loss: 0.0504 - acc: 0.9633 - val_loss: 0.1138 - val_acc: 0.8782\n",
      "Epoch 9/10\n",
      "15000/15000 [==============================] - 32s 2ms/step - loss: 0.0424 - acc: 0.9724 - val_loss: 0.1182 - val_acc: 0.8768\n",
      "Epoch 10/10\n",
      "15000/15000 [==============================] - 31s 2ms/step - loss: 0.0475 - acc: 0.9633 - val_loss: 0.1066 - val_acc: 0.8840\n"
     ]
    },
    {
     "data": {
      "image/png": "[encoded data removed]",
      "text/plain": [
       "<matplotlib.figure.Figure at 0x111b8d470>"
      ]
     },
     "metadata": {},
     "output_type": "display_data"
    },
    {
     "name": "stdout",
     "output_type": "stream",
     "text": [
      "INFO: model evaluation .. \n",
      "25000/25000 [==============================] - 44s 2ms/step\n"
     ]
    },
    {
     "data": {
      "text/plain": [
       "[0.11048945451021194, 0.87580000000000002]"
      ]
     },
     "execution_count": 8,
     "metadata": {},
     "output_type": "execute_result"
    }
   ],
   "source": [
    "set_l2_reg = 0.0001\n",
    "print (\"With regularization:\",set_l2_reg)\n",
    "results = train_model(epochs=10,\n",
    "                      hidden=[1024,1024,1024],\n",
    "                      x_train=x_train,y_train=y_train,x_val=x_val,y_val=y_val,do_val=1,\n",
    "                      l2_reg_rate=set_l2_reg\n",
    "                     )\n",
    "results"
   ]
  },
  {
   "cell_type": "code",
   "execution_count": 9,
   "metadata": {},
   "outputs": [
    {
     "name": "stdout",
     "output_type": "stream",
     "text": [
      "With regularization: 0\n",
      "Network INFO: \n",
      "\tLayers: [10000, [1024, 1024], 1]\n",
      "\t Hyper: act=relu opt=rmsprop loss=mse batch_size=512 l2_reg=0.000000\n",
      "Train on 15000 samples, validate on 10000 samples\n",
      "Epoch 1/10\n",
      "15000/15000 [==============================] - 31s 2ms/step - loss: 0.2988 - acc: 0.6423 - val_loss: 0.1065 - val_acc: 0.8576\n",
      "Epoch 2/10\n",
      "15000/15000 [==============================] - 28s 2ms/step - loss: 0.0838 - acc: 0.8859 - val_loss: 0.0962 - val_acc: 0.8673\n",
      "Epoch 3/10\n",
      "15000/15000 [==============================] - 28s 2ms/step - loss: 0.0451 - acc: 0.9415 - val_loss: 0.0808 - val_acc: 0.8914\n",
      "Epoch 4/10\n",
      "15000/15000 [==============================] - 27s 2ms/step - loss: 0.0236 - acc: 0.9727 - val_loss: 0.0818 - val_acc: 0.8938\n",
      "Epoch 5/10\n",
      "15000/15000 [==============================] - 27s 2ms/step - loss: 0.0030 - acc: 0.9969 - val_loss: 0.0851 - val_acc: 0.8892\n",
      "Epoch 6/10\n",
      "15000/15000 [==============================] - 27s 2ms/step - loss: 0.0229 - acc: 0.9737 - val_loss: 0.0868 - val_acc: 0.8922\n",
      "Epoch 7/10\n",
      "15000/15000 [==============================] - 27s 2ms/step - loss: 9.1073e-04 - acc: 0.9990 - val_loss: 0.0891 - val_acc: 0.8881\n",
      "Epoch 8/10\n",
      "15000/15000 [==============================] - 29s 2ms/step - loss: 6.7583e-04 - acc: 0.9993 - val_loss: 0.0905 - val_acc: 0.8888\n",
      "Epoch 9/10\n",
      "15000/15000 [==============================] - 28s 2ms/step - loss: 0.0239 - acc: 0.9747 - val_loss: 0.0946 - val_acc: 0.8921\n",
      "Epoch 10/10\n",
      "15000/15000 [==============================] - 28s 2ms/step - loss: 5.7705e-04 - acc: 0.9994 - val_loss: 0.0936 - val_acc: 0.8908\n"
     ]
    },
    {
     "data": {
      "image/png": "[encoded data removed]",
      "text/plain": [
       "<matplotlib.figure.Figure at 0x11485a588>"
      ]
     },
     "metadata": {},
     "output_type": "display_data"
    },
    {
     "name": "stdout",
     "output_type": "stream",
     "text": [
      "INFO: model evaluation .. \n",
      "25000/25000 [==============================] - 26s 1ms/step\n"
     ]
    },
    {
     "data": {
      "text/plain": [
       "[0.10250898590672761, 0.87931999999999999]"
      ]
     },
     "execution_count": 9,
     "metadata": {},
     "output_type": "execute_result"
    }
   ],
   "source": [
    "set_l2_reg = 0\n",
    "print (\"With regularization:\",set_l2_reg)\n",
    "results = train_model(epochs=10,\n",
    "                      hidden=[1024,1024],\n",
    "                      x_train=x_train,y_train=y_train,x_val=x_val,y_val=y_val,do_val=1,\n",
    "                      l2_reg_rate=set_l2_reg\n",
    "                     )\n",
    "results"
   ]
  },
  {
   "cell_type": "markdown",
   "metadata": {},
   "source": [
    "---\n",
    "\n",
    "# Misc checks"
   ]
  },
  {
   "cell_type": "markdown",
   "metadata": {},
   "source": [
    "## normalization"
   ]
  },
  {
   "cell_type": "code",
   "execution_count": 10,
   "metadata": {},
   "outputs": [
    {
     "name": "stdout",
     "output_type": "stream",
     "text": [
      "raw mean = -0.00921190127597\n",
      "raw stdev= 0.994123668883\n",
      "nrm  mean= 9.59232693276e-18\n",
      "nrm stdev= 1.0\n"
     ]
    }
   ],
   "source": [
    "import numpy as np\n",
    "\n",
    "# raw data\n",
    "x = np.random.randn(10000,1)\n",
    "mean_raw  = np.mean(x)\n",
    "stdev_raw = np.std(x)\n",
    "print (\"raw mean =\", mean_raw)\n",
    "print (\"raw stdev=\",stdev_raw)\n",
    "\n",
    "# normalize data\n",
    "y = (x-mean_raw)/stdev_raw\n",
    "mean_norm  = np.mean(y)\n",
    "stdev_norm = np.std(y)\n",
    "\"\"\"\n",
    "easier way to do the above:\n",
    "x -= x.mean(axis=0)\n",
    "x /= x.std (axis=0)\n",
    "\"\"\"\n",
    "\n",
    "print (\"nrm  mean=\",mean_norm)\n",
    "print (\"nrm stdev=\",stdev_norm)\n",
    "\n",
    "# ensure normalized data has right distribution .. using the 'isclose' function\n",
    "assert(np.isclose(mean_norm,  0.,atol=1e-16))\n",
    "assert(np.isclose(stdev_norm, 1.,atol=1e-16))\n"
   ]
  },
  {
   "cell_type": "code",
   "execution_count": 11,
   "metadata": {},
   "outputs": [
    {
     "name": "stdout",
     "output_type": "stream",
     "text": [
      "With regularization: 0.01\n",
      "Network INFO: \n",
      "\tLayers: [10000, [512, 512], 1]\n",
      "\t Hyper: act=relu opt=rmsprop loss=mse batch_size=512 l2_reg=0.010000\n",
      "Train on 15000 samples, validate on 10000 samples\n",
      "Epoch 1/5\n",
      "15000/15000 [==============================] - 17s 1ms/step - loss: 3.8832 - acc: 0.6534 - val_loss: 1.1417 - val_acc: 0.7113\n",
      "Epoch 2/5\n",
      "15000/15000 [==============================] - 15s 975us/step - loss: 0.6439 - acc: 0.7688 - val_loss: 0.3031 - val_acc: 0.8422\n",
      "Epoch 3/5\n",
      "15000/15000 [==============================] - 14s 959us/step - loss: 0.2461 - acc: 0.8071 - val_loss: 0.1949 - val_acc: 0.8559\n",
      "Epoch 4/5\n",
      "15000/15000 [==============================] - 14s 956us/step - loss: 0.2005 - acc: 0.8298 - val_loss: 0.1911 - val_acc: 0.8448\n",
      "Epoch 5/5\n",
      "15000/15000 [==============================] - 14s 947us/step - loss: 0.1917 - acc: 0.8392 - val_loss: 0.1742 - val_acc: 0.8683\n"
     ]
    },
    {
     "data": {
      "image/png": "[encoded data removed]",
      "text/plain": [
       "<matplotlib.figure.Figure at 0x1181468d0>"
      ]
     },
     "metadata": {},
     "output_type": "display_data"
    },
    {
     "name": "stdout",
     "output_type": "stream",
     "text": [
      "INFO: model evaluation .. \n",
      "25000/25000 [==============================] - 18s 739us/step\n"
     ]
    },
    {
     "data": {
      "text/plain": [
       "[0.17580257146358491, 0.86719999999999997]"
      ]
     },
     "execution_count": 11,
     "metadata": {},
     "output_type": "execute_result"
    }
   ],
   "source": [
    "set_l2_reg = 0.01\n",
    "print (\"With regularization:\",set_l2_reg)\n",
    "results = train_model(epochs=5,\n",
    "                      hidden=[512,512],\n",
    "                      x_train=x_train,y_train=y_train,x_val=x_val,y_val=y_val,do_val=1,\n",
    "                      l2_reg_rate=set_l2_reg\n",
    "                     )\n",
    "results"
   ]
  },
  {
   "cell_type": "code",
   "execution_count": null,
   "metadata": {},
   "outputs": [],
   "source": []
  }
 ],
 "metadata": {
  "kernelspec": {
   "display_name": "Python 3",
   "language": "python",
   "name": "python3"
  },
  "language_info": {
   "codemirror_mode": {
    "name": "ipython",
    "version": 3
   },
   "file_extension": ".py",
   "mimetype": "text/x-python",
   "name": "python",
   "nbconvert_exporter": "python",
   "pygments_lexer": "ipython3",
   "version": "3.6.3"
  }
 },
 "nbformat": 4,
 "nbformat_minor": 2
}
