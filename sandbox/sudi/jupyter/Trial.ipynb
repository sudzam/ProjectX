{
 "cells": [
  {
   "cell_type": "markdown",
   "metadata": {},
   "source": [
    "# attempting keras + iPy"
   ]
  },
  {
   "cell_type": "code",
   "execution_count": 1,
   "metadata": {},
   "outputs": [
    {
     "name": "stderr",
     "output_type": "stream",
     "text": [
      "Using TensorFlow backend.\n",
      "/usr/local/Cellar/python3/3.6.3/Frameworks/Python.framework/Versions/3.6/lib/python3.6/importlib/_bootstrap.py:219: RuntimeWarning: compiletime version 3.5 of module 'tensorflow.python.framework.fast_tensor_util' does not match runtime version 3.6\n",
      "  return f(*args, **kwds)\n"
     ]
    }
   ],
   "source": [
    "from keras import models\n",
    "from keras import layers\n",
    "from keras import optimizers\n",
    "from keras import regularizers\n",
    "\n",
    "import numpy as np\n",
    "import matplotlib.pyplot as plt"
   ]
  },
  {
   "cell_type": "code",
   "execution_count": 2,
   "metadata": {},
   "outputs": [],
   "source": [
    "def plot_model(history) :\n",
    "    acc      = history.history['acc']\n",
    "    val_acc  = history.history['val_acc']\n",
    "    loss     = history.history['loss']\n",
    "    val_loss = history.history['val_loss']\n",
    "\n",
    "    epochs = range(1, len(acc) + 1)\n",
    "\n",
    "    # \"bo\" is for \"blue dot\"\n",
    "    plt.plot(epochs, loss, 'bo', label='Training loss')\n",
    "    # b is for \"solid blue line\"\n",
    "    plt.plot(epochs, val_loss, 'b', label='Validation loss')\n",
    "    plt.title('Training and validation loss')\n",
    "    plt.xlabel('Epochs')\n",
    "    plt.ylabel('Loss')\n",
    "    plt.legend()\n",
    "\n",
    "    plt.show()"
   ]
  },
  {
   "cell_type": "code",
   "execution_count": 3,
   "metadata": {},
   "outputs": [],
   "source": [
    "def train_model(x_train,y_train, x_val=None,y_val=None,\n",
    "                do_val=0,\n",
    "                hidden=[32,16],\n",
    "                act='relu', opt='rmsprop',loss='mse',\n",
    "                l2_reg_rate = 0.1,\n",
    "                batch_size=512,\n",
    "                epochs=10):\n",
    "    model = models.Sequential()\n",
    "    \n",
    "    # fixed for IMDB\n",
    "    input_size =10000\n",
    "    output_size=1    \n",
    "\n",
    "    for (indx,depth) in enumerate(hidden):\n",
    "        if (indx==0):\n",
    "            model.add(layers.Dense(depth, activation=act, input_shape=(input_size,),kernel_regularizer=regularizers.l2(l2_reg_rate)))\n",
    "        else:\n",
    "            model.add(layers.Dense(depth, activation=act,kernel_regularizer=regularizers.l2(l2_reg_rate)))\n",
    "            \n",
    "    # output layer\n",
    "    model.add(layers.Dense(output_size, activation='sigmoid'))\n",
    "    \n",
    "    arch = [input_size, hidden, output_size]\n",
    "\n",
    "    model.compile(optimizer=opt,\n",
    "                  loss=loss,\n",
    "                  metrics=['accuracy'])\n",
    "    \n",
    "    print (\"Network INFO: \")\n",
    "    print (\"\\tLayers:\",arch)\n",
    "    print (\"\\t Hyper: act=%s opt=%s loss=%s batch_size=%d l2_reg=%f\" %(act,opt,loss,batch_size,l2_reg_rate));\n",
    "    if (do_val):\n",
    "        history = model.fit(x_train, y_train, epochs=epochs, batch_size=batch_size, validation_data=(x_val,y_val))\n",
    "        plot_model(history)\n",
    "    else:\n",
    "        history = model.fit(x_train, y_train, epochs=epochs, batch_size=batch_size)\n",
    "\n",
    "    print (\"INFO: model evaluation .. \")\n",
    "    results = model.evaluate(x_test, y_test)\n",
    "    return results"
   ]
  },
  {
   "cell_type": "markdown",
   "metadata": {},
   "source": [
    "# IMDB"
   ]
  },
  {
   "cell_type": "code",
   "execution_count": 47,
   "metadata": {},
   "outputs": [],
   "source": [
    "from keras.datasets import imdb\n",
    "\n",
    "(train_data, train_labels), (test_data, test_labels) = imdb.load_data(num_words=10000)\n",
    "\n",
    "def vectorize_sequences(sequences, dimension=10000):\n",
    "    # Create an all-zero matrix of shape (len(sequences), dimension)\n",
    "    results = np.zeros((len(sequences), dimension))\n",
    "    for i, sequence in enumerate(sequences):\n",
    "        results[i, sequence] = 1.  # set specific indices of results[i] to 1s\n",
    "    return results\n",
    "\n",
    "# Our vectorized training data\n",
    "x_train = vectorize_sequences(train_data)\n",
    "# Our vectorized test data\n",
    "x_test = vectorize_sequences(test_data)\n",
    "\n",
    "# Our vectorized labels\n",
    "y_train = np.asarray(train_labels).astype('float32')\n",
    "y_test  = np.asarray(test_labels).astype ('float32')\n",
    "\n",
    "# setup the validation & training data\n",
    "# ensure there's no information leak!!\n",
    "x_val   = x_train[:10000]\n",
    "x_train = x_train[10000:]\n",
    "y_val   = y_train[:10000]\n",
    "y_train = y_train[10000:]"
   ]
  },
  {
   "cell_type": "markdown",
   "metadata": {},
   "source": [
    "---\n",
    "## re-train a new network"
   ]
  },
  {
   "cell_type": "code",
   "execution_count": 5,
   "metadata": {},
   "outputs": [
    {
     "name": "stdout",
     "output_type": "stream",
     "text": [
      "With regularization: 0.0\n",
      "Network INFO: \n",
      "\tLayers: [10000, [1024, 1024, 1024], 1]\n",
      "\t Hyper: act=relu opt=rmsprop loss=mse batch_size=512 l2_reg=0.000000\n",
      "Train on 15000 samples, validate on 10000 samples\n",
      "Epoch 1/10\n",
      "15000/15000 [==============================] - 38s 3ms/step - loss: 0.1876 - acc: 0.7231 - val_loss: 0.0962 - val_acc: 0.8637\n",
      "Epoch 2/10\n",
      "15000/15000 [==============================] - 30s 2ms/step - loss: 0.0704 - acc: 0.9056 - val_loss: 0.0925 - val_acc: 0.8682\n",
      "Epoch 3/10\n",
      "15000/15000 [==============================] - 35s 2ms/step - loss: 0.0294 - acc: 0.9638 - val_loss: 0.0917 - val_acc: 0.8818\n",
      "Epoch 4/10\n",
      "15000/15000 [==============================] - 31s 2ms/step - loss: 0.0191 - acc: 0.9779 - val_loss: 0.0873 - val_acc: 0.8886\n",
      "Epoch 5/10\n",
      "15000/15000 [==============================] - 30s 2ms/step - loss: 0.0025 - acc: 0.9974 - val_loss: 0.0905 - val_acc: 0.8892\n",
      "Epoch 6/10\n",
      "15000/15000 [==============================] - 28s 2ms/step - loss: 0.0201 - acc: 0.9785 - val_loss: 0.0906 - val_acc: 0.8885\n",
      "Epoch 7/10\n",
      "15000/15000 [==============================] - 28s 2ms/step - loss: 0.0011 - acc: 0.9989 - val_loss: 0.0940 - val_acc: 0.8913\n",
      "Epoch 8/10\n",
      "15000/15000 [==============================] - 28s 2ms/step - loss: 7.7161e-04 - acc: 0.9992 - val_loss: 0.0976 - val_acc: 0.8868\n",
      "Epoch 9/10\n",
      "15000/15000 [==============================] - 28s 2ms/step - loss: 5.0989e-04 - acc: 0.9995 - val_loss: 0.1345 - val_acc: 0.8537\n",
      "Epoch 10/10\n",
      "15000/15000 [==============================] - 28s 2ms/step - loss: 0.0203 - acc: 0.9787 - val_loss: 0.0987 - val_acc: 0.8875\n"
     ]
    },
    {
     "data": {
      "image/png": "[encoded data removed]",
      "text/plain": [
       "<matplotlib.figure.Figure at 0x125b3ba20>"
      ]
     },
     "metadata": {},
     "output_type": "display_data"
    },
    {
     "name": "stdout",
     "output_type": "stream",
     "text": [
      "INFO: model evaluation .. \n",
      "25000/25000 [==============================] - 27s 1ms/step\n"
     ]
    },
    {
     "data": {
      "text/plain": [
       "[0.10507917699829675, 0.87883999999999995]"
      ]
     },
     "execution_count": 5,
     "metadata": {},
     "output_type": "execute_result"
    }
   ],
   "source": [
    "set_l2_reg = 0.\n",
    "print (\"With regularization:\",set_l2_reg)\n",
    "results = train_model(epochs=10,\n",
    "                      hidden=[1024,1024,1024],\n",
    "                      x_train=x_train,y_train=y_train,x_val=x_val,y_val=y_val,do_val=1,\n",
    "                      l2_reg_rate=set_l2_reg\n",
    "                     )\n",
    "results"
   ]
  },
  {
   "cell_type": "code",
   "execution_count": 6,
   "metadata": {},
   "outputs": [
    {
     "name": "stdout",
     "output_type": "stream",
     "text": [
      "With regularization: 0.01\n",
      "Network INFO: \n",
      "\tLayers: [10000, [1024, 1024, 1024], 1]\n",
      "\t Hyper: act=relu opt=rmsprop loss=mse batch_size=512 l2_reg=0.010000\n",
      "Train on 15000 samples, validate on 10000 samples\n",
      "Epoch 1/10\n",
      "15000/15000 [==============================] - 33s 2ms/step - loss: 9.4788 - acc: 0.5873 - val_loss: 1.6752 - val_acc: 0.5057\n",
      "Epoch 2/10\n",
      "15000/15000 [==============================] - 30s 2ms/step - loss: 0.6690 - acc: 0.7039 - val_loss: 0.2708 - val_acc: 0.8388\n",
      "Epoch 3/10\n",
      "15000/15000 [==============================] - 29s 2ms/step - loss: 0.2451 - acc: 0.7901 - val_loss: 0.2184 - val_acc: 0.8480\n",
      "Epoch 4/10\n",
      "15000/15000 [==============================] - 30s 2ms/step - loss: 0.2270 - acc: 0.8238 - val_loss: 0.2148 - val_acc: 0.8351\n",
      "Epoch 5/10\n",
      "15000/15000 [==============================] - 35s 2ms/step - loss: 0.2237 - acc: 0.8269 - val_loss: 0.2066 - val_acc: 0.8539\n",
      "Epoch 6/10\n",
      "15000/15000 [==============================] - 31s 2ms/step - loss: 0.2160 - acc: 0.8389 - val_loss: 0.2079 - val_acc: 0.8413\n",
      "Epoch 7/10\n",
      "15000/15000 [==============================] - 30s 2ms/step - loss: 0.2125 - acc: 0.8373 - val_loss: 0.2309 - val_acc: 0.8090\n",
      "Epoch 8/10\n",
      "15000/15000 [==============================] - 30s 2ms/step - loss: 0.2050 - acc: 0.8482 - val_loss: 0.2512 - val_acc: 0.7730\n",
      "Epoch 9/10\n",
      "15000/15000 [==============================] - 30s 2ms/step - loss: 0.2014 - acc: 0.8523 - val_loss: 0.2133 - val_acc: 0.8262\n",
      "Epoch 10/10\n",
      "15000/15000 [==============================] - 30s 2ms/step - loss: 0.1955 - acc: 0.8590 - val_loss: 0.2164 - val_acc: 0.8211\n"
     ]
    },
    {
     "data": {
      "image/png": "[encoded data removed]",
      "text/plain": [
       "<matplotlib.figure.Figure at 0x11aa61e10>"
      ]
     },
     "metadata": {},
     "output_type": "display_data"
    },
    {
     "name": "stdout",
     "output_type": "stream",
     "text": [
      "INFO: model evaluation .. \n",
      "25000/25000 [==============================] - 53s 2ms/step\n"
     ]
    },
    {
     "data": {
      "text/plain": [
       "[0.22040241268157959, 0.81432000000000004]"
      ]
     },
     "execution_count": 6,
     "metadata": {},
     "output_type": "execute_result"
    }
   ],
   "source": [
    "set_l2_reg = 0.01\n",
    "print (\"With regularization:\",set_l2_reg)\n",
    "results = train_model(epochs=10,\n",
    "                      hidden=[1024,1024,1024],\n",
    "                      x_train=x_train,y_train=y_train,x_val=x_val,y_val=y_val,do_val=1,\n",
    "                      l2_reg_rate=set_l2_reg\n",
    "                     )\n",
    "results"
   ]
  },
  {
   "cell_type": "code",
   "execution_count": 9,
   "metadata": {
    "scrolled": false
   },
   "outputs": [
    {
     "name": "stdout",
     "output_type": "stream",
     "text": [
      "With regularization: 0.001\n",
      "Network INFO: \n",
      "\tLayers: [10000, [1024, 1024, 1024], 1]\n",
      "\t Hyper: act=relu opt=rmsprop loss=mse batch_size=512 l2_reg=0.001000\n",
      "Train on 15000 samples, validate on 10000 samples\n",
      "Epoch 1/10\n",
      "15000/15000 [==============================] - 35s 2ms/step - loss: 1.3527 - acc: 0.6823 - val_loss: 0.4506 - val_acc: 0.8177\n",
      "Epoch 2/10\n",
      "15000/15000 [==============================] - 31s 2ms/step - loss: 0.2674 - acc: 0.8588 - val_loss: 0.1646 - val_acc: 0.8759\n",
      "Epoch 3/10\n",
      "15000/15000 [==============================] - 30s 2ms/step - loss: 0.1484 - acc: 0.8817 - val_loss: 0.1557 - val_acc: 0.8567\n",
      "Epoch 4/10\n",
      "15000/15000 [==============================] - 30s 2ms/step - loss: 0.1295 - acc: 0.8927 - val_loss: 0.1430 - val_acc: 0.8672\n",
      "Epoch 5/10\n",
      "15000/15000 [==============================] - 30s 2ms/step - loss: 0.1165 - acc: 0.9053 - val_loss: 0.1274 - val_acc: 0.8822\n",
      "Epoch 6/10\n",
      "15000/15000 [==============================] - 31s 2ms/step - loss: 0.1112 - acc: 0.9109 - val_loss: 0.1574 - val_acc: 0.8388\n",
      "Epoch 7/10\n",
      "15000/15000 [==============================] - 35s 2ms/step - loss: 0.1061 - acc: 0.9135 - val_loss: 0.1269 - val_acc: 0.8822\n",
      "Epoch 8/10\n",
      "15000/15000 [==============================] - 33s 2ms/step - loss: 0.1000 - acc: 0.9229 - val_loss: 0.1364 - val_acc: 0.8682\n",
      "Epoch 9/10\n",
      "15000/15000 [==============================] - 30s 2ms/step - loss: 0.0911 - acc: 0.9323 - val_loss: 0.1620 - val_acc: 0.8377\n",
      "Epoch 10/10\n",
      "15000/15000 [==============================] - 30s 2ms/step - loss: 0.0910 - acc: 0.9312 - val_loss: 0.1246 - val_acc: 0.8818\n"
     ]
    },
    {
     "data": {
      "image/png": "[encoded data removed]",
      "text/plain": [
       "<matplotlib.figure.Figure at 0x11cfc6240>"
      ]
     },
     "metadata": {},
     "output_type": "display_data"
    },
    {
     "name": "stdout",
     "output_type": "stream",
     "text": [
      "INFO: model evaluation .. \n",
      "25000/25000 [==============================] - 52s 2ms/step\n"
     ]
    },
    {
     "data": {
      "text/plain": [
       "[0.12835040962219238, 0.87568000000000001]"
      ]
     },
     "execution_count": 9,
     "metadata": {},
     "output_type": "execute_result"
    }
   ],
   "source": [
    "set_l2_reg = 0.001\n",
    "print (\"With regularization:\",set_l2_reg)\n",
    "results = train_model(epochs=10,\n",
    "                      hidden=[1024,1024,1024],\n",
    "                      x_train=x_train,y_train=y_train,x_val=x_val,y_val=y_val,do_val=1,\n",
    "                      l2_reg_rate=set_l2_reg\n",
    "                     )\n",
    "results"
   ]
  },
  {
   "cell_type": "code",
   "execution_count": 45,
   "metadata": {},
   "outputs": [
    {
     "name": "stdout",
     "output_type": "stream",
     "text": [
      "With regularization: 0.0001\n",
      "Network INFO: \n",
      "\tLayers: [10000, [1024, 1024, 1024], 1]\n",
      "\t Hyper: act=relu opt=rmsprop loss=mse batch_size=512 l2_reg=0.000100\n",
      "Train on 15000 samples, validate on 10000 samples\n",
      "Epoch 1/10\n",
      "15000/15000 [==============================] - 46s 3ms/step - loss: 0.3908 - acc: 0.7228 - val_loss: 0.1910 - val_acc: 0.8743\n",
      "Epoch 2/10\n",
      "15000/15000 [==============================] - 35s 2ms/step - loss: 0.1524 - acc: 0.8920 - val_loss: 0.1686 - val_acc: 0.8368\n",
      "Epoch 3/10\n",
      "15000/15000 [==============================] - 33s 2ms/step - loss: 0.0979 - acc: 0.9269 - val_loss: 0.1912 - val_acc: 0.7963\n",
      "Epoch 4/10\n",
      "15000/15000 [==============================] - 30s 2ms/step - loss: 0.0746 - acc: 0.9477 - val_loss: 0.1157 - val_acc: 0.8853\n",
      "Epoch 5/10\n",
      "15000/15000 [==============================] - 31s 2ms/step - loss: 0.0629 - acc: 0.9574 - val_loss: 0.1135 - val_acc: 0.8865\n",
      "Epoch 6/10\n",
      "15000/15000 [==============================] - 32s 2ms/step - loss: 0.0578 - acc: 0.9613 - val_loss: 0.1325 - val_acc: 0.8550\n",
      "Epoch 7/10\n",
      "15000/15000 [==============================] - 33s 2ms/step - loss: 0.0493 - acc: 0.9692 - val_loss: 0.1259 - val_acc: 0.8702\n",
      "Epoch 8/10\n",
      "15000/15000 [==============================] - 33s 2ms/step - loss: 0.0524 - acc: 0.9611 - val_loss: 0.1098 - val_acc: 0.8848\n",
      "Epoch 9/10\n",
      "15000/15000 [==============================] - 34s 2ms/step - loss: 0.0429 - acc: 0.9727 - val_loss: 0.1272 - val_acc: 0.8651\n",
      "Epoch 10/10\n",
      "15000/15000 [==============================] - 34s 2ms/step - loss: 0.0415 - acc: 0.9735 - val_loss: 0.1446 - val_acc: 0.8390\n"
     ]
    },
    {
     "data": {
      "image/png": "[encoded data removed]",
      "text/plain": [
       "<matplotlib.figure.Figure at 0x139b16358>"
      ]
     },
     "metadata": {},
     "output_type": "display_data"
    },
    {
     "name": "stdout",
     "output_type": "stream",
     "text": [
      "INFO: model evaluation .. \n",
      "25000/25000 [==============================] - 45s 2ms/step\n"
     ]
    },
    {
     "data": {
      "text/plain": [
       "[0.14997830868363379, 0.83176000000000005]"
      ]
     },
     "execution_count": 45,
     "metadata": {},
     "output_type": "execute_result"
    }
   ],
   "source": [
    "set_l2_reg = 0.0001\n",
    "print (\"With regularization:\",set_l2_reg)\n",
    "results = train_model(epochs=10,\n",
    "                      hidden=[1024,1024,1024],\n",
    "                      x_train=x_train,y_train=y_train,x_val=x_val,y_val=y_val,do_val=1,\n",
    "                      l2_reg_rate=set_l2_reg\n",
    "                     )\n",
    "results"
   ]
  },
  {
   "cell_type": "code",
   "execution_count": 43,
   "metadata": {},
   "outputs": [
    {
     "name": "stdout",
     "output_type": "stream",
     "text": [
      "With regularization: 0\n",
      "Network INFO: \n",
      "\tLayers: [10000, [1024, 1024], 1]\n",
      "\t Hyper: act=relu opt=rmsprop loss=mse batch_size=512 l2_reg=0.000000\n",
      "Train on 5000 samples, validate on 10000 samples\n",
      "Epoch 1/10\n",
      "5000/5000 [==============================] - 13s 3ms/step - loss: 0.3783 - acc: 0.5492 - val_loss: 0.2895 - val_acc: 0.5007\n",
      "Epoch 2/10\n",
      "5000/5000 [==============================] - 12s 2ms/step - loss: 0.1531 - acc: 0.7970 - val_loss: 0.3576 - val_acc: 0.5020\n",
      "Epoch 3/10\n",
      "5000/5000 [==============================] - 15s 3ms/step - loss: 0.0655 - acc: 0.9186 - val_loss: 0.3945 - val_acc: 0.5038\n",
      "Epoch 4/10\n",
      "5000/5000 [==============================] - 15s 3ms/step - loss: 0.0173 - acc: 0.9812 - val_loss: 0.4284 - val_acc: 0.5019\n",
      "Epoch 5/10\n",
      "5000/5000 [==============================] - 14s 3ms/step - loss: 0.0027 - acc: 0.9976 - val_loss: 0.4497 - val_acc: 0.4984\n",
      "Epoch 6/10\n",
      "5000/5000 [==============================] - 12s 2ms/step - loss: 8.9440e-04 - acc: 0.9994 - val_loss: 0.4521 - val_acc: 0.4993\n",
      "Epoch 7/10\n",
      "5000/5000 [==============================] - 12s 2ms/step - loss: 4.5386e-04 - acc: 0.9996 - val_loss: 0.4553 - val_acc: 0.4975\n",
      "Epoch 8/10\n",
      "5000/5000 [==============================] - 12s 2ms/step - loss: 2.2137e-04 - acc: 0.9998 - val_loss: 0.4579 - val_acc: 0.4978\n",
      "Epoch 9/10\n",
      "5000/5000 [==============================] - 13s 3ms/step - loss: 2.1004e-04 - acc: 0.9998 - val_loss: 0.4602 - val_acc: 0.4971\n",
      "Epoch 10/10\n",
      "5000/5000 [==============================] - 12s 2ms/step - loss: 2.0502e-04 - acc: 0.9998 - val_loss: 0.4621 - val_acc: 0.4978\n"
     ]
    },
    {
     "data": {
      "image/png": "[encoded data removed]",
      "text/plain": [
       "<matplotlib.figure.Figure at 0x142cf9c88>"
      ]
     },
     "metadata": {},
     "output_type": "display_data"
    },
    {
     "name": "stdout",
     "output_type": "stream",
     "text": [
      "INFO: model evaluation .. \n",
      "25000/25000 [==============================] - 28s 1ms/step\n"
     ]
    },
    {
     "data": {
      "text/plain": [
       "[0.10748404756605626, 0.86468]"
      ]
     },
     "execution_count": 43,
     "metadata": {},
     "output_type": "execute_result"
    }
   ],
   "source": [
    "set_l2_reg = 0\n",
    "print (\"With regularization:\",set_l2_reg)\n",
    "results = train_model(epochs=10,\n",
    "                      hidden=[1024,1024],\n",
    "                      x_train=x_train,y_train=y_train,x_val=x_val,y_val=y_val,do_val=1,\n",
    "                      l2_reg_rate=set_l2_reg\n",
    "                     )\n",
    "results"
   ]
  },
  {
   "cell_type": "markdown",
   "metadata": {},
   "source": [
    "---\n",
    "\n",
    "# Misc checks"
   ]
  },
  {
   "cell_type": "markdown",
   "metadata": {},
   "source": [
    "## normalization"
   ]
  },
  {
   "cell_type": "code",
   "execution_count": 48,
   "metadata": {},
   "outputs": [
    {
     "name": "stdout",
     "output_type": "stream",
     "text": [
      "raw mean = -0.014977703125\n",
      "raw stdev= 1.00233905121\n",
      "nrm  mean= 1.20792265079e-17\n",
      "nrm stdev= 1.0\n"
     ]
    }
   ],
   "source": [
    "import numpy as np\n",
    "\n",
    "# raw data\n",
    "x = np.random.randn(10000,1)\n",
    "mean_raw  = np.mean(x)\n",
    "stdev_raw = np.std(x)\n",
    "print (\"raw mean =\", mean_raw)\n",
    "print (\"raw stdev=\",stdev_raw)\n",
    "\n",
    "# normalize data\n",
    "y = (x-mean_raw)/stdev_raw\n",
    "mean_norm  = np.mean(y)\n",
    "stdev_norm = np.std(y)\n",
    "\"\"\"\n",
    "easier way to do the above:\n",
    "x -= x.mean(axis=0)\n",
    "x /= x.std (axis=0)\n",
    "\"\"\"\n",
    "\n",
    "print (\"nrm  mean=\",mean_norm)\n",
    "print (\"nrm stdev=\",stdev_norm)\n",
    "\n",
    "# ensure normalized data has right distribution .. using the 'isclose' function\n",
    "assert(np.isclose(mean_norm,  0.,atol=1e-16))\n",
    "assert(np.isclose(stdev_norm, 1.,atol=1e-16))\n"
   ]
  },
  {
   "cell_type": "code",
   "execution_count": 46,
   "metadata": {},
   "outputs": [
    {
     "name": "stdout",
     "output_type": "stream",
     "text": [
      "With regularization: 0.01\n",
      "Network INFO: \n",
      "\tLayers: [10000, [512, 512], 1]\n",
      "\t Hyper: act=relu opt=rmsprop loss=mse batch_size=512 l2_reg=0.010000\n",
      "Train on 15000 samples, validate on 10000 samples\n",
      "Epoch 1/5\n",
      "15000/15000 [==============================] - 19s 1ms/step - loss: 3.8788 - acc: 0.6412 - val_loss: 1.1621 - val_acc: 0.6485\n",
      "Epoch 2/5\n",
      "15000/15000 [==============================] - 18s 1ms/step - loss: 0.6431 - acc: 0.7685 - val_loss: 0.3334 - val_acc: 0.7598\n",
      "Epoch 3/5\n",
      "15000/15000 [==============================] - 16s 1ms/step - loss: 0.2424 - acc: 0.8147 - val_loss: 0.1939 - val_acc: 0.8529\n",
      "Epoch 4/5\n",
      "15000/15000 [==============================] - 16s 1ms/step - loss: 0.1955 - acc: 0.8359 - val_loss: 0.1757 - val_acc: 0.8638\n",
      "Epoch 5/5\n",
      "15000/15000 [==============================] - 15s 975us/step - loss: 0.1958 - acc: 0.8295 - val_loss: 0.2130 - val_acc: 0.7914\n"
     ]
    },
    {
     "data": {
      "image/png": "[encoded data removed]",
      "text/plain": [
       "<matplotlib.figure.Figure at 0x126bff470>"
      ]
     },
     "metadata": {},
     "output_type": "display_data"
    },
    {
     "name": "stdout",
     "output_type": "stream",
     "text": [
      "INFO: model evaluation .. \n",
      "25000/25000 [==============================] - 20s 789us/step\n"
     ]
    },
    {
     "data": {
      "text/plain": [
       "[0.21567055691242218, 0.78432000000000002]"
      ]
     },
     "execution_count": 46,
     "metadata": {},
     "output_type": "execute_result"
    }
   ],
   "source": [
    "set_l2_reg = 0.01\n",
    "print (\"With regularization:\",set_l2_reg)\n",
    "results = train_model(epochs=5,\n",
    "                      hidden=[512,512],\n",
    "                      x_train=x_train,y_train=y_train,x_val=x_val,y_val=y_val,do_val=1,\n",
    "                      l2_reg_rate=set_l2_reg\n",
    "                     )\n",
    "results"
   ]
  }
 ],
 "metadata": {
  "kernelspec": {
   "display_name": "Python 3",
   "language": "python",
   "name": "python3"
  },
  "language_info": {
   "codemirror_mode": {
    "name": "ipython",
    "version": 3
   },
   "file_extension": ".py",
   "mimetype": "text/x-python",
   "name": "python",
   "nbconvert_exporter": "python",
   "pygments_lexer": "ipython3",
   "version": "3.6.3"
  }
 },
 "nbformat": 4,
 "nbformat_minor": 2
}
