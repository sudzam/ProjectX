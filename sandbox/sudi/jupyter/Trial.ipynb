{
 "cells": [
  {
   "cell_type": "markdown",
   "metadata": {},
   "source": [
    "# attempting keras + iPy"
   ]
  },
  {
   "cell_type": "code",
   "execution_count": 40,
   "metadata": {},
   "outputs": [],
   "source": [
    "from keras import models\n",
    "from keras import layers\n",
    "from keras import optimizers\n",
    "from keras import regularizers\n",
    "\n",
    "import numpy as np\n",
    "import matplotlib.pyplot as plt"
   ]
  },
  {
   "cell_type": "code",
   "execution_count": 16,
   "metadata": {},
   "outputs": [],
   "source": [
    "def plot_model(history) :\n",
    "    acc      = history.history['acc']\n",
    "    val_acc  = history.history['val_acc']\n",
    "    loss     = history.history['loss']\n",
    "    val_loss = history.history['val_loss']\n",
    "\n",
    "    epochs = range(1, len(acc) + 1)\n",
    "\n",
    "    # \"bo\" is for \"blue dot\"\n",
    "    plt.plot(epochs, loss, 'bo', label='Training loss')\n",
    "    # b is for \"solid blue line\"\n",
    "    plt.plot(epochs, val_loss, 'b', label='Validation loss')\n",
    "    plt.title('Training and validation loss')\n",
    "    plt.xlabel('Epochs')\n",
    "    plt.ylabel('Loss')\n",
    "    plt.legend()\n",
    "\n",
    "    plt.show()"
   ]
  },
  {
   "cell_type": "code",
   "execution_count": 48,
   "metadata": {},
   "outputs": [],
   "source": [
    "def train_model(x_train,y_train, x_val=None,y_val=None,do_val=0,hidden=[32,16],act='relu', opt='rmsprop',loss='mse',epochs=10, batch_size=512):\n",
    "    model = models.Sequential()\n",
    "    \n",
    "    # fixed for IMDB\n",
    "    input_size =10000\n",
    "    output_size=1\n",
    "    \n",
    "    for (indx,depth) in enumerate(hidden):\n",
    "        if (indx==0):\n",
    "            model.add(layers.Dense(depth, activation=act, input_shape=(input_size,),kernel_regularizer=regularizers.l2(0.001)))\n",
    "        else:\n",
    "            model.add(layers.Dense(depth, activation=act,kernel_regularizer=regularizers.l2(0.001)))\n",
    "            \n",
    "    # output layer\n",
    "    model.add(layers.Dense(output_size, activation='sigmoid'))\n",
    "    \n",
    "    arch = [input_size, hidden, output_size]\n",
    "\n",
    "    model.compile(optimizer=opt,\n",
    "                  loss=loss,\n",
    "                  metrics=['accuracy'])\n",
    "    \n",
    "    print (\"Network INFO: \")\n",
    "    print (\"\\tLayers:\",arch)\n",
    "    print (\"\\t Hyper: act=%s opt=%s loss=%s batch_size=%d\" %(act,opt,loss,batch_size));\n",
    "    if (do_val):\n",
    "        history = model.fit(x_train, y_train, epochs=epochs, batch_size=batch_size, validation_data=(x_val,y_val))\n",
    "        plot_model(history)\n",
    "    else:\n",
    "        history = model.fit(x_train, y_train, epochs=epochs, batch_size=batch_size)\n",
    "\n",
    "    print (\"INFO: model evaluation .. \")\n",
    "    results = model.evaluate(x_test, y_test)\n",
    "    return results"
   ]
  },
  {
   "cell_type": "markdown",
   "metadata": {},
   "source": [
    "# IMDB"
   ]
  },
  {
   "cell_type": "code",
   "execution_count": 50,
   "metadata": {},
   "outputs": [],
   "source": [
    "from keras.datasets import imdb\n",
    "\n",
    "(train_data, train_labels), (test_data, test_labels) = imdb.load_data(num_words=10000)\n",
    "\n",
    "def vectorize_sequences(sequences, dimension=10000):\n",
    "    # Create an all-zero matrix of shape (len(sequences), dimension)\n",
    "    results = np.zeros((len(sequences), dimension))\n",
    "    for i, sequence in enumerate(sequences):\n",
    "        results[i, sequence] = 1.  # set specific indices of results[i] to 1s\n",
    "    return results\n",
    "\n",
    "# Our vectorized training data\n",
    "x_train = vectorize_sequences(train_data)\n",
    "# Our vectorized test data\n",
    "x_test = vectorize_sequences(test_data)\n",
    "\n",
    "# Our vectorized labels\n",
    "y_train = np.asarray(train_labels).astype('float32')\n",
    "y_test  = np.asarray(test_labels).astype ('float32')\n",
    "\n",
    "# setup the validation & training data\n",
    "# ensure there's no information leak!!\n",
    "x_val   = x_train[:10000]\n",
    "x_train = x_train[10000:]\n",
    "\n",
    "y_val   = y_train[:10000]\n",
    "y_train = y_train[10000:]"
   ]
  },
  {
   "cell_type": "markdown",
   "metadata": {},
   "source": [
    "---\n",
    "## re-train a new network"
   ]
  },
  {
   "cell_type": "code",
   "execution_count": 47,
   "metadata": {},
   "outputs": [
    {
     "name": "stdout",
     "output_type": "stream",
     "text": [
      "NO regularization\n",
      "Network INFO: \n",
      "\tLayers: [10000, [1024, 1024, 1024], 1]\n",
      "\t Hyper: act=relu opt=rmsprop loss=mse batch_size=512\n",
      "Train on 15000 samples, validate on 10000 samples\n",
      "Epoch 1/10\n",
      "15000/15000 [==============================] - 30s 2ms/step - loss: 0.2016 - acc: 0.6914 - val_loss: 0.1077 - val_acc: 0.8645\n",
      "Epoch 2/10\n",
      "15000/15000 [==============================] - 29s 2ms/step - loss: 0.0715 - acc: 0.9054 - val_loss: 0.0951 - val_acc: 0.8754\n",
      "Epoch 3/10\n",
      "15000/15000 [==============================] - 29s 2ms/step - loss: 0.0361 - acc: 0.9547 - val_loss: 0.0901 - val_acc: 0.8859\n",
      "Epoch 4/10\n",
      "15000/15000 [==============================] - 30s 2ms/step - loss: 0.0179 - acc: 0.9789 - val_loss: 0.0912 - val_acc: 0.8889\n",
      "Epoch 5/10\n",
      "15000/15000 [==============================] - 28s 2ms/step - loss: 0.0030 - acc: 0.9968 - val_loss: 0.0992 - val_acc: 0.8804\n",
      "Epoch 6/10\n",
      "15000/15000 [==============================] - 30s 2ms/step - loss: 0.0203 - acc: 0.9786 - val_loss: 0.0965 - val_acc: 0.8879\n",
      "Epoch 7/10\n",
      "15000/15000 [==============================] - 32s 2ms/step - loss: 0.0014 - acc: 0.9986 - val_loss: 0.0960 - val_acc: 0.8862\n",
      "Epoch 8/10\n",
      "15000/15000 [==============================] - 30s 2ms/step - loss: 0.0336 - acc: 0.9651 - val_loss: 0.1021 - val_acc: 0.8850\n",
      "Epoch 9/10\n",
      "15000/15000 [==============================] - 28s 2ms/step - loss: 0.0011 - acc: 0.9989 - val_loss: 0.1008 - val_acc: 0.8868\n",
      "Epoch 10/10\n",
      "15000/15000 [==============================] - 29s 2ms/step - loss: 6.0018e-04 - acc: 0.9994 - val_loss: 0.1010 - val_acc: 0.8864\n"
     ]
    },
    {
     "data": {
      "image/png": "[encoded data removed]",
      "text/plain": [
       "<matplotlib.figure.Figure at 0x11a03fa20>"
      ]
     },
     "metadata": {},
     "output_type": "display_data"
    },
    {
     "name": "stdout",
     "output_type": "stream",
     "text": [
      "INFO: model evaluation .. \n",
      "25000/25000 [==============================] - 33s 1ms/step\n"
     ]
    },
    {
     "data": {
      "text/plain": [
       "[0.10650592502637767, 0.88107999999999997]"
      ]
     },
     "execution_count": 47,
     "metadata": {},
     "output_type": "execute_result"
    }
   ],
   "source": [
    "print (\"No regularization\")\n",
    "results = train_model(epochs=10,hidden=[1024,1024,1024],x_train=x_train,y_train=y_train,x_val=x_val,y_val=y_val,do_val=1)\n",
    "results"
   ]
  },
  {
   "cell_type": "code",
   "execution_count": 51,
   "metadata": {},
   "outputs": [
    {
     "name": "stdout",
     "output_type": "stream",
     "text": [
      "With regularization\n",
      "Network INFO: \n",
      "\tLayers: [10000, [1024, 1024, 1024], 1]\n",
      "\t Hyper: act=relu opt=rmsprop loss=mse batch_size=512\n",
      "Train on 15000 samples, validate on 10000 samples\n",
      "Epoch 1/10\n",
      "15000/15000 [==============================] - 38s 3ms/step - loss: 1.3405 - acc: 0.6607 - val_loss: 0.4253 - val_acc: 0.8333\n",
      "Epoch 2/10\n",
      "15000/15000 [==============================] - 33s 2ms/step - loss: 0.2628 - acc: 0.8577 - val_loss: 0.2542 - val_acc: 0.7531\n",
      "Epoch 3/10\n",
      "15000/15000 [==============================] - 30s 2ms/step - loss: 0.1504 - acc: 0.8764 - val_loss: 0.1561 - val_acc: 0.8604\n",
      "Epoch 4/10\n",
      "15000/15000 [==============================] - 33s 2ms/step - loss: 0.1232 - acc: 0.9010 - val_loss: 0.1291 - val_acc: 0.8832\n",
      "Epoch 5/10\n",
      "15000/15000 [==============================] - 31s 2ms/step - loss: 0.1163 - acc: 0.9053 - val_loss: 0.1276 - val_acc: 0.8813\n",
      "Epoch 6/10\n",
      "15000/15000 [==============================] - 30s 2ms/step - loss: 0.1092 - acc: 0.9119 - val_loss: 0.1266 - val_acc: 0.8800\n",
      "Epoch 7/10\n",
      "15000/15000 [==============================] - 30s 2ms/step - loss: 0.0993 - acc: 0.9237 - val_loss: 0.1472 - val_acc: 0.8557\n",
      "Epoch 8/10\n",
      "15000/15000 [==============================] - 30s 2ms/step - loss: 0.0956 - acc: 0.9261 - val_loss: 0.1396 - val_acc: 0.8648\n",
      "Epoch 9/10\n",
      "15000/15000 [==============================] - 31s 2ms/step - loss: 0.0912 - acc: 0.9294 - val_loss: 0.1633 - val_acc: 0.8282\n",
      "Epoch 10/10\n",
      "15000/15000 [==============================] - 256s 17ms/step - loss: 0.0849 - acc: 0.9375 - val_loss: 0.1425 - val_acc: 0.8602\n"
     ]
    },
    {
     "data": {
      "image/png": "[encoded data removed]",
      "text/plain": [
       "<matplotlib.figure.Figure at 0x112bf3278>"
      ]
     },
     "metadata": {},
     "output_type": "display_data"
    },
    {
     "name": "stdout",
     "output_type": "stream",
     "text": [
      "INFO: model evaluation .. \n",
      "25000/25000 [==============================] - 57s 2ms/step\n"
     ]
    },
    {
     "data": {
      "text/plain": [
       "[0.14686048585414888, 0.85199999999999998]"
      ]
     },
     "execution_count": 51,
     "metadata": {},
     "output_type": "execute_result"
    }
   ],
   "source": [
    "print (\"With regularization\")\n",
    "results = train_model(epochs=10,hidden=[1024,1024,1024],x_train=x_train,y_train=y_train,x_val=x_val,y_val=y_val,do_val=1)\n",
    "results"
   ]
  },
  {
   "cell_type": "markdown",
   "metadata": {},
   "source": [
    "---\n",
    "\n",
    "# Misc checks"
   ]
  },
  {
   "cell_type": "markdown",
   "metadata": {},
   "source": [
    "## normalization"
   ]
  },
  {
   "cell_type": "code",
   "execution_count": 11,
   "metadata": {},
   "outputs": [
    {
     "name": "stdout",
     "output_type": "stream",
     "text": [
      "raw mean = -0.00834795297806\n",
      "raw stdev= 0.99633309672\n",
      "nrm  mean= 1.84741111298e-17\n",
      "nrm stdev= 1.0\n"
     ]
    }
   ],
   "source": [
    "import numpy as np\n",
    "\n",
    "# raw data\n",
    "x = np.random.randn(10000,1)\n",
    "mean_raw  = np.mean(x)\n",
    "stdev_raw = np.std(x)\n",
    "print (\"raw mean =\", mean_raw)\n",
    "print (\"raw stdev=\",stdev_raw)\n",
    "\n",
    "# normalize data\n",
    "y = (x-mean_raw)/stdev_raw\n",
    "mean_norm  = np.mean(y)\n",
    "stdev_norm = np.std(y)\n",
    "\"\"\"\n",
    "easier way to do the above:\n",
    "x -= x.mean(axis=0)\n",
    "x /= x.std (axis=0)\n",
    "\"\"\"\n",
    "\n",
    "print (\"nrm  mean=\",mean_norm)\n",
    "print (\"nrm stdev=\",stdev_norm)\n",
    "\n",
    "# ensure normalized data has right distribution .. using the 'isclose' function\n",
    "assert(np.isclose(mean_norm,  0.,atol=1e-16))\n",
    "assert(np.isclose(stdev_norm, 1.,atol=1e-16))\n"
   ]
  },
  {
   "cell_type": "code",
   "execution_count": null,
   "metadata": {},
   "outputs": [],
   "source": []
  }
 ],
 "metadata": {
  "kernelspec": {
   "display_name": "Python 3",
   "language": "python",
   "name": "python3"
  }
 },
 "nbformat": 4,
 "nbformat_minor": 2
}
