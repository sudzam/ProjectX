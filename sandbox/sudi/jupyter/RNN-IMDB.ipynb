{
 "cells": [
  {
   "cell_type": "markdown",
   "metadata": {},
   "source": [
    "# some insight on what the embedding layer does.."
   ]
  },
  {
   "cell_type": "code",
   "execution_count": 1,
   "metadata": {},
   "outputs": [
    {
     "name": "stderr",
     "output_type": "stream",
     "text": [
      "Using TensorFlow backend.\n",
      "/usr/local/Cellar/python3/3.6.3/Frameworks/Python.framework/Versions/3.6/lib/python3.6/importlib/_bootstrap.py:219: RuntimeWarning: compiletime version 3.5 of module 'tensorflow.python.framework.fast_tensor_util' does not match runtime version 3.6\n",
      "  return f(*args, **kwds)\n"
     ]
    },
    {
     "name": "stdout",
     "output_type": "stream",
     "text": [
      "[[ 1  2  3  2 99]\n",
      " [20 30 40 50 60]]\n",
      "[[[-0.03357483  0.03608015  0.01297964 -0.03611078]\n",
      "  [-0.0013414   0.01265285 -0.04347279  0.00564732]\n",
      "  [ 0.0120943  -0.03486428  0.04279834  0.02152374]\n",
      "  [-0.0013414   0.01265285 -0.04347279  0.00564732]\n",
      "  [ 0.03026238  0.03241466 -0.03797972  0.0039479 ]]\n",
      "\n",
      " [[-0.01915991  0.01246355 -0.02333621 -0.02265028]\n",
      "  [-0.00818653  0.00797934 -0.03463236  0.0441787 ]\n",
      "  [-0.04911791 -0.04545338 -0.00148395  0.03011576]\n",
      "  [ 0.02829078  0.00856111 -0.02306349  0.0397087 ]\n",
      "  [-0.0487126   0.04053981  0.04936567 -0.02675781]]]\n"
     ]
    }
   ],
   "source": [
    "import numpy as np\n",
    "from keras.models import Sequential\n",
    "from keras.layers import Embedding\n",
    "\n",
    "# each new model will provide a different set of embeddings\n",
    "model = Sequential()\n",
    "input_array = np.array([[ 1, 2, 3, 2,99],\n",
    "                        [20,30,40,50,60]\n",
    "                       ])\n",
    "\n",
    "# this layer converts a sequence of integers to a fixed dimension vector of floats\n",
    "model.add(Embedding(100, 4, input_length=5))\n",
    "model.compile('rmsprop', 'mse')\n",
    "\n",
    "# can be used to predict any number of samples\n",
    "output_array = model.predict(input_array)\n",
    "assert output_array.shape == (2, 5, 4)\n",
    "\n",
    "# check that all elements meant to be equal are..\n",
    "# used the 'array_equal' function\n",
    "assert (np.array_equal(output_array[0][1],output_array[0][3]))\n",
    "\n",
    "print (input_array)\n",
    "print (output_array)"
   ]
  },
  {
   "cell_type": "markdown",
   "metadata": {},
   "source": [
    "# working with IMDB + embedding layer + dense clasifier"
   ]
  },
  {
   "cell_type": "code",
   "execution_count": 3,
   "metadata": {},
   "outputs": [],
   "source": [
    "# hyper parameters\n",
    "# take the top 'max_features' words\n",
    "max_features = 20000\n",
    "\n",
    "# changing this from 40 to 100 helps increase val_acc by 6-7%\n",
    "maxlen = 100"
   ]
  },
  {
   "cell_type": "code",
   "execution_count": 4,
   "metadata": {},
   "outputs": [],
   "source": [
    "from keras.datasets import imdb\n",
    "from keras import preprocessing\n",
    "\n",
    "# load the data\n",
    "(x_train_orig, y_train), (x_test_orig, y_test) = imdb.load_data(num_words=max_features)\n",
    "\n",
    "# pad sequences with length < maxlen with 0\n",
    "x_train = preprocessing.sequence.pad_sequences(x_train_orig, maxlen=maxlen)\n",
    "x_test  = preprocessing.sequence.pad_sequences(x_test_orig,  maxlen=maxlen)"
   ]
  },
  {
   "cell_type": "code",
   "execution_count": 6,
   "metadata": {},
   "outputs": [
    {
     "name": "stdout",
     "output_type": "stream",
     "text": [
      "LENGTH: RAW: max_len=2315(@20338) min_len=7(@2104)\n",
      "SHAPE:  RAW: (25000,) FIN: (25000, 100)\n",
      "SHAPE:  FIN: (25000,)\n"
     ]
    }
   ],
   "source": [
    "# get sme idea about the input (raw) IMDB data & modified\n",
    "max_len = [-1,-1]\n",
    "min_len = [1000000,-1]\n",
    "for indx,val in enumerate(x_test_orig):\n",
    "    val_len = len(val)\n",
    "    if (val_len > max_len[0]):\n",
    "        max_len[0] = val_len\n",
    "        max_len[1] = indx\n",
    "        \n",
    "    if (val_len < min_len[0]):\n",
    "        min_len[0] = val_len\n",
    "        min_len[1] = indx\n",
    "        \n",
    "print (\"LENGTH: RAW: max_len=%d(@%d) min_len=%d(@%d)\" %(max_len[0],max_len[1],min_len[0],min_len[1]))\n",
    "print (\"SHAPE: \",\"RAW:\",x_test_orig.shape,\"FIN:\",x_train.shape)\n",
    "print (\"SHAPE: \",\"FIN:\",y_train.shape)"
   ]
  },
  {
   "cell_type": "code",
   "execution_count": 7,
   "metadata": {},
   "outputs": [
    {
     "name": "stdout",
     "output_type": "stream",
     "text": [
      "RAW:X= [1, 332, 4, 274, 859, 4, 20] Y= 0\n",
      "MOD: [  0   0   0   0   0   0   0   0   0   0   0   0   0   0   0   0   0   0\n",
      "   0   0   0   0   0   0   0   0   0   0   0   0   0   0   0   0   0   0\n",
      "   0   0   0   0   0   0   0   0   0   0   0   0   0   0   0   0   0   0\n",
      "   0   0   0   0   0   0   0   0   0   0   0   0   0   0   0   0   0   0\n",
      "   0   0   0   0   0   0   0   0   0   0   0   0   0   0   0   0   0   0\n",
      "   0   0   0   1 332   4 274 859   4  20]\n"
     ]
    }
   ],
   "source": [
    "# check the entry that's supposed to be padded!\n",
    "print (\"RAW:X=\",x_test_orig[min_len[1]],\"Y=\",y_test[min_len[1]])\n",
    "print (\"MOD:\",x_test     [min_len[1]])"
   ]
  },
  {
   "cell_type": "markdown",
   "metadata": {},
   "source": [
    "# embedding layer"
   ]
  },
  {
   "cell_type": "code",
   "execution_count": 7,
   "metadata": {},
   "outputs": [],
   "source": [
    "from keras.models import Sequential\n",
    "from keras.layers import Embedding\n",
    "from keras.layers import Flatten, Dense, Dropout\n",
    "from keras import regularizers\n",
    "import matplotlib.pyplot as plt\n",
    "\n",
    "def train_model(dropout=0,regularize=0,epochs=10,embed_dim=8,shuffle_val_data=1):\n",
    "    model = Sequential()\n",
    "    model.add(Embedding(input_dim=max_features, output_dim=embed_dim, input_length=maxlen))\n",
    "    if dropout:\n",
    "        model.add(Dropout(0.5))\n",
    "        \n",
    "    model.add(Flatten())\n",
    "    \n",
    "    if regularize:\n",
    "        l2_val=0.01\n",
    "        model.add(Dense(1, activation='sigmoid',kernel_regularizer=regularizers.l2(l2_val)))\n",
    "    else:\n",
    "        model.add(Dense(1, activation='sigmoid'))\n",
    "        \n",
    "    #model.add(Dense(1, activation='sigmoid'))\n",
    "    model.compile(optimizer='rmsprop', loss='binary_crossentropy', metrics=['acc'])\n",
    "    model.summary()\n",
    "\n",
    "    # train\n",
    "    total_train_samples = x_train.shape[0]\n",
    "    train_size = int(0.8 * total_train_samples)\n",
    "    print (\"INFO: total_train_size=%d train_size=%d\" %(total_train_samples,train_size))\n",
    "    \n",
    "    # set val_data\n",
    "    x_val = x_train[train_size:]\n",
    "    y_val = y_train[train_size:]\n",
    "    print (\"VAL_SHAPE: x_val=%s y_val=%s\" %(x_val.shape, y_val.shape))\n",
    "    \n",
    "    debug=0\n",
    "    if shuffle_val_data:\n",
    "        print (\"INFO: validation data shuffle enabled\")\n",
    "        for indx,x_ent in enumerate(x_val):\n",
    "            np.random.shuffle(x_ent)\n",
    "            x_val[indx] = x_ent\n",
    "            \n",
    "    history = model.fit(x_train[:train_size], y_train[:train_size],\n",
    "                        validation_data=(x_val,y_val),\n",
    "                        epochs=epochs,\n",
    "                        batch_size=32,\n",
    "                        verbose=1)\n",
    "\n",
    "    # plot\n",
    "    plt.plot(history.history['loss'],    label='loss')\n",
    "    plt.plot(history.history['val_loss'],label='val_loss')\n",
    "    plt.legend()\n",
    "    plt.figure()\n",
    "\n",
    "    plt.plot(history.history['acc'],    label='acc')\n",
    "    plt.plot(history.history['val_acc'],label='val_acc')\n",
    "    plt.legend()\n",
    "    plt.show()"
   ]
  },
  {
   "cell_type": "markdown",
   "metadata": {},
   "source": [
    "# without regularization\n",
    " - classic over-fit case!"
   ]
  },
  {
   "cell_type": "code",
   "execution_count": 87,
   "metadata": {
    "scrolled": true
   },
   "outputs": [
    {
     "name": "stdout",
     "output_type": "stream",
     "text": [
      "_________________________________________________________________\n",
      "Layer (type)                 Output Shape              Param #   \n",
      "=================================================================\n",
      "embedding_48 (Embedding)     (None, 100, 8)            160000    \n",
      "_________________________________________________________________\n",
      "flatten_7 (Flatten)          (None, 800)               0         \n",
      "_________________________________________________________________\n",
      "dense_7 (Dense)              (None, 1)                 801       \n",
      "=================================================================\n",
      "Total params: 160,801\n",
      "Trainable params: 160,801\n",
      "Non-trainable params: 0\n",
      "_________________________________________________________________\n",
      "Train on 20000 samples, validate on 5000 samples\n",
      "Epoch 1/30\n",
      "20000/20000 [==============================] - 3s 131us/step - loss: 0.6221 - acc: 0.6784 - val_loss: 0.4754 - val_acc: 0.8034\n",
      "Epoch 2/30\n",
      "20000/20000 [==============================] - 2s 123us/step - loss: 0.3701 - acc: 0.8513 - val_loss: 0.3515 - val_acc: 0.8480\n",
      "Epoch 3/30\n",
      "20000/20000 [==============================] - 2s 111us/step - loss: 0.2802 - acc: 0.8869 - val_loss: 0.3257 - val_acc: 0.8572\n",
      "Epoch 4/30\n",
      "20000/20000 [==============================] - 2s 118us/step - loss: 0.2380 - acc: 0.9049 - val_loss: 0.3212 - val_acc: 0.8604\n",
      "Epoch 5/30\n",
      "20000/20000 [==============================] - 2s 104us/step - loss: 0.2079 - acc: 0.9193 - val_loss: 0.3212 - val_acc: 0.8602\n",
      "Epoch 6/30\n",
      "20000/20000 [==============================] - 3s 141us/step - loss: 0.1837 - acc: 0.9292 - val_loss: 0.3272 - val_acc: 0.8594\n",
      "Epoch 7/30\n",
      "20000/20000 [==============================] - 2s 117us/step - loss: 0.1613 - acc: 0.9409 - val_loss: 0.3334 - val_acc: 0.8588\n",
      "Epoch 8/30\n",
      "20000/20000 [==============================] - 3s 143us/step - loss: 0.1420 - acc: 0.9487 - val_loss: 0.3426 - val_acc: 0.8572\n",
      "Epoch 9/30\n",
      "20000/20000 [==============================] - 3s 134us/step - loss: 0.1241 - acc: 0.9566 - val_loss: 0.3541 - val_acc: 0.8570\n",
      "Epoch 10/30\n",
      "20000/20000 [==============================] - 3s 128us/step - loss: 0.1072 - acc: 0.9639 - val_loss: 0.3658 - val_acc: 0.8564\n",
      "Epoch 11/30\n",
      "20000/20000 [==============================] - 3s 130us/step - loss: 0.0923 - acc: 0.9715 - val_loss: 0.3775 - val_acc: 0.8552\n",
      "Epoch 12/30\n",
      "20000/20000 [==============================] - 3s 136us/step - loss: 0.0785 - acc: 0.9761 - val_loss: 0.3970 - val_acc: 0.8502\n",
      "Epoch 13/30\n",
      "20000/20000 [==============================] - 2s 121us/step - loss: 0.0660 - acc: 0.9808 - val_loss: 0.4060 - val_acc: 0.8518\n",
      "Epoch 14/30\n",
      "20000/20000 [==============================] - 3s 132us/step - loss: 0.0547 - acc: 0.9842 - val_loss: 0.4211 - val_acc: 0.8486\n",
      "Epoch 15/30\n",
      "20000/20000 [==============================] - 2s 115us/step - loss: 0.0449 - acc: 0.9877 - val_loss: 0.4380 - val_acc: 0.8452\n",
      "Epoch 16/30\n",
      "20000/20000 [==============================] - 3s 146us/step - loss: 0.0363 - acc: 0.9910 - val_loss: 0.4539 - val_acc: 0.8434\n",
      "Epoch 17/30\n",
      "20000/20000 [==============================] - 3s 170us/step - loss: 0.0293 - acc: 0.9928 - val_loss: 0.4705 - val_acc: 0.8442\n",
      "Epoch 18/30\n",
      "20000/20000 [==============================] - 3s 138us/step - loss: 0.0233 - acc: 0.9945 - val_loss: 0.4909 - val_acc: 0.8416\n",
      "Epoch 19/30\n",
      "20000/20000 [==============================] - 3s 148us/step - loss: 0.0183 - acc: 0.9960 - val_loss: 0.5083 - val_acc: 0.8410\n",
      "Epoch 20/30\n",
      "20000/20000 [==============================] - 3s 138us/step - loss: 0.0141 - acc: 0.9973 - val_loss: 0.5293 - val_acc: 0.8416\n",
      "Epoch 21/30\n",
      "20000/20000 [==============================] - 3s 142us/step - loss: 0.0111 - acc: 0.9981 - val_loss: 0.5496 - val_acc: 0.8386\n",
      "Epoch 22/30\n",
      "20000/20000 [==============================] - 4s 178us/step - loss: 0.0084 - acc: 0.9985 - val_loss: 0.5716 - val_acc: 0.8380\n",
      "Epoch 23/30\n",
      "20000/20000 [==============================] - 3s 173us/step - loss: 0.0065 - acc: 0.9988 - val_loss: 0.5984 - val_acc: 0.8380\n",
      "Epoch 24/30\n",
      "20000/20000 [==============================] - 3s 160us/step - loss: 0.0049 - acc: 0.9994 - val_loss: 0.6192 - val_acc: 0.8354\n",
      "Epoch 25/30\n",
      "20000/20000 [==============================] - 2s 112us/step - loss: 0.0036 - acc: 0.9996 - val_loss: 0.6446 - val_acc: 0.8336\n",
      "Epoch 26/30\n",
      "20000/20000 [==============================] - 4s 207us/step - loss: 0.0029 - acc: 0.9996 - val_loss: 0.6745 - val_acc: 0.8332\n",
      "Epoch 27/30\n",
      "20000/20000 [==============================] - 3s 138us/step - loss: 0.0023 - acc: 0.9998 - val_loss: 0.7019 - val_acc: 0.8350\n",
      "Epoch 28/30\n",
      "20000/20000 [==============================] - 3s 145us/step - loss: 0.0018 - acc: 0.9998 - val_loss: 0.7271 - val_acc: 0.8312\n",
      "Epoch 29/30\n",
      "20000/20000 [==============================] - 3s 152us/step - loss: 0.0014 - acc: 0.9999 - val_loss: 0.7565 - val_acc: 0.8320\n",
      "Epoch 30/30\n",
      "20000/20000 [==============================] - 4s 190us/step - loss: 0.0012 - acc: 0.9999 - val_loss: 0.7847 - val_acc: 0.8318\n"
     ]
    },
    {
     "data": {
      "image/png": "[encoded data removed]",
      "text/plain": [
       "<matplotlib.figure.Figure at 0x1158eca90>"
      ]
     },
     "metadata": {},
     "output_type": "display_data"
    },
    {
     "data": {
      "image/png": "[encoded data removed]",
      "text/plain": [
       "<matplotlib.figure.Figure at 0x136a25ba8>"
      ]
     },
     "metadata": {},
     "output_type": "display_data"
    }
   ],
   "source": [
    "train_model(epochs=30)"
   ]
  },
  {
   "cell_type": "markdown",
   "metadata": {},
   "source": [
    "# with regularization"
   ]
  },
  {
   "cell_type": "code",
   "execution_count": 88,
   "metadata": {},
   "outputs": [
    {
     "name": "stdout",
     "output_type": "stream",
     "text": [
      "_________________________________________________________________\n",
      "Layer (type)                 Output Shape              Param #   \n",
      "=================================================================\n",
      "embedding_49 (Embedding)     (None, 100, 8)            160000    \n",
      "_________________________________________________________________\n",
      "flatten_8 (Flatten)          (None, 800)               0         \n",
      "_________________________________________________________________\n",
      "dense_8 (Dense)              (None, 1)                 801       \n",
      "=================================================================\n",
      "Total params: 160,801\n",
      "Trainable params: 160,801\n",
      "Non-trainable params: 0\n",
      "_________________________________________________________________\n",
      "Train on 20000 samples, validate on 5000 samples\n",
      "Epoch 1/30\n",
      "20000/20000 [==============================] - 4s 185us/step - loss: 0.6426 - acc: 0.6975 - val_loss: 0.5459 - val_acc: 0.8008\n",
      "Epoch 2/30\n",
      "20000/20000 [==============================] - 3s 140us/step - loss: 0.4836 - acc: 0.8409 - val_loss: 0.4653 - val_acc: 0.8380\n",
      "Epoch 3/30\n",
      "20000/20000 [==============================] - 3s 167us/step - loss: 0.4189 - acc: 0.8655 - val_loss: 0.4302 - val_acc: 0.8476\n",
      "Epoch 4/30\n",
      "20000/20000 [==============================] - 3s 138us/step - loss: 0.3832 - acc: 0.8752 - val_loss: 0.4089 - val_acc: 0.8506\n",
      "Epoch 5/30\n",
      "20000/20000 [==============================] - 4s 184us/step - loss: 0.3588 - acc: 0.8838 - val_loss: 0.3956 - val_acc: 0.8554\n",
      "Epoch 6/30\n",
      "20000/20000 [==============================] - 2s 118us/step - loss: 0.3408 - acc: 0.8898 - val_loss: 0.3870 - val_acc: 0.8584\n",
      "Epoch 7/30\n",
      "20000/20000 [==============================] - 2s 106us/step - loss: 0.3268 - acc: 0.8944 - val_loss: 0.3788 - val_acc: 0.8590\n",
      "Epoch 8/30\n",
      "20000/20000 [==============================] - 2s 111us/step - loss: 0.3148 - acc: 0.8982 - val_loss: 0.3722 - val_acc: 0.8618\n",
      "Epoch 9/30\n",
      "20000/20000 [==============================] - 2s 106us/step - loss: 0.3050 - acc: 0.9011 - val_loss: 0.3684 - val_acc: 0.8620\n",
      "Epoch 10/30\n",
      "20000/20000 [==============================] - 2s 108us/step - loss: 0.2964 - acc: 0.9023 - val_loss: 0.3681 - val_acc: 0.8598\n",
      "Epoch 11/30\n",
      "20000/20000 [==============================] - 3s 143us/step - loss: 0.2892 - acc: 0.9061 - val_loss: 0.3628 - val_acc: 0.8616\n",
      "Epoch 12/30\n",
      "20000/20000 [==============================] - 5s 250us/step - loss: 0.2825 - acc: 0.9079 - val_loss: 0.3590 - val_acc: 0.8638\n",
      "Epoch 13/30\n",
      "20000/20000 [==============================] - 3s 128us/step - loss: 0.2764 - acc: 0.9102 - val_loss: 0.3566 - val_acc: 0.8622\n",
      "Epoch 14/30\n",
      "20000/20000 [==============================] - 3s 126us/step - loss: 0.2709 - acc: 0.9121 - val_loss: 0.3572 - val_acc: 0.8648\n",
      "Epoch 15/30\n",
      "20000/20000 [==============================] - 3s 171us/step - loss: 0.2659 - acc: 0.9148 - val_loss: 0.3559 - val_acc: 0.8628\n",
      "Epoch 16/30\n",
      "20000/20000 [==============================] - 3s 154us/step - loss: 0.2616 - acc: 0.9154 - val_loss: 0.3562 - val_acc: 0.8608\n",
      "Epoch 17/30\n",
      "20000/20000 [==============================] - 3s 161us/step - loss: 0.2573 - acc: 0.9165 - val_loss: 0.3534 - val_acc: 0.8628\n",
      "Epoch 18/30\n",
      "20000/20000 [==============================] - 5s 228us/step - loss: 0.2535 - acc: 0.9170 - val_loss: 0.3551 - val_acc: 0.8622\n",
      "Epoch 19/30\n",
      "20000/20000 [==============================] - 3s 139us/step - loss: 0.2497 - acc: 0.9198 - val_loss: 0.3518 - val_acc: 0.8634\n",
      "Epoch 20/30\n",
      "20000/20000 [==============================] - 3s 125us/step - loss: 0.2461 - acc: 0.9207 - val_loss: 0.3509 - val_acc: 0.8630\n",
      "Epoch 21/30\n",
      "20000/20000 [==============================] - 2s 119us/step - loss: 0.2433 - acc: 0.9222 - val_loss: 0.3515 - val_acc: 0.8604\n",
      "Epoch 22/30\n",
      "20000/20000 [==============================] - 3s 138us/step - loss: 0.2398 - acc: 0.9224 - val_loss: 0.3521 - val_acc: 0.8630\n",
      "Epoch 23/30\n",
      "20000/20000 [==============================] - 3s 152us/step - loss: 0.2368 - acc: 0.9234 - val_loss: 0.3520 - val_acc: 0.8632\n",
      "Epoch 24/30\n",
      "20000/20000 [==============================] - 3s 170us/step - loss: 0.2340 - acc: 0.9239 - val_loss: 0.3525 - val_acc: 0.8618\n",
      "Epoch 25/30\n",
      "20000/20000 [==============================] - 3s 139us/step - loss: 0.2311 - acc: 0.9248 - val_loss: 0.3497 - val_acc: 0.8640\n",
      "Epoch 26/30\n",
      "20000/20000 [==============================] - 3s 144us/step - loss: 0.2290 - acc: 0.9254 - val_loss: 0.3514 - val_acc: 0.8610\n",
      "Epoch 27/30\n",
      "20000/20000 [==============================] - 3s 171us/step - loss: 0.2264 - acc: 0.9267 - val_loss: 0.3543 - val_acc: 0.8626\n",
      "Epoch 28/30\n",
      "20000/20000 [==============================] - 3s 146us/step - loss: 0.2240 - acc: 0.9283 - val_loss: 0.3506 - val_acc: 0.8648\n",
      "Epoch 29/30\n",
      "20000/20000 [==============================] - 3s 148us/step - loss: 0.2220 - acc: 0.9284 - val_loss: 0.3528 - val_acc: 0.8606\n",
      "Epoch 30/30\n",
      "20000/20000 [==============================] - 3s 130us/step - loss: 0.2200 - acc: 0.9295 - val_loss: 0.3534 - val_acc: 0.8622\n"
     ]
    },
    {
     "data": {
      "image/png": "[encoded data removed]",
      "text/plain": [
       "<matplotlib.figure.Figure at 0x12dbabdd8>"
      ]
     },
     "metadata": {},
     "output_type": "display_data"
    },
    {
     "data": {
      "image/png": "[encoded data removed]",
      "text/plain": [
       "<matplotlib.figure.Figure at 0x11c54dac8>"
      ]
     },
     "metadata": {},
     "output_type": "display_data"
    }
   ],
   "source": [
    "train_model(regularize=1,epochs=30)"
   ]
  },
  {
   "cell_type": "markdown",
   "metadata": {},
   "source": [
    "# with regularization + dropout"
   ]
  },
  {
   "cell_type": "code",
   "execution_count": 89,
   "metadata": {
    "scrolled": true
   },
   "outputs": [
    {
     "name": "stdout",
     "output_type": "stream",
     "text": [
      "_________________________________________________________________\n",
      "Layer (type)                 Output Shape              Param #   \n",
      "=================================================================\n",
      "embedding_50 (Embedding)     (None, 100, 8)            160000    \n",
      "_________________________________________________________________\n",
      "dropout_3 (Dropout)          (None, 100, 8)            0         \n",
      "_________________________________________________________________\n",
      "flatten_9 (Flatten)          (None, 800)               0         \n",
      "_________________________________________________________________\n",
      "dense_9 (Dense)              (None, 1)                 801       \n",
      "=================================================================\n",
      "Total params: 160,801\n",
      "Trainable params: 160,801\n",
      "Non-trainable params: 0\n",
      "_________________________________________________________________\n",
      "Train on 20000 samples, validate on 5000 samples\n",
      "Epoch 1/50\n",
      "20000/20000 [==============================] - 5s 259us/step - loss: 0.6746 - acc: 0.6402 - val_loss: 0.6063 - val_acc: 0.7682\n",
      "Epoch 2/50\n",
      "20000/20000 [==============================] - 3s 168us/step - loss: 0.5418 - acc: 0.8056 - val_loss: 0.5040 - val_acc: 0.8232\n",
      "Epoch 3/50\n",
      "20000/20000 [==============================] - 4s 180us/step - loss: 0.4693 - acc: 0.8373 - val_loss: 0.4622 - val_acc: 0.8360\n",
      "Epoch 4/50\n",
      "20000/20000 [==============================] - 4s 177us/step - loss: 0.4294 - acc: 0.8540 - val_loss: 0.4375 - val_acc: 0.8420\n",
      "Epoch 5/50\n",
      "20000/20000 [==============================] - 5s 233us/step - loss: 0.4057 - acc: 0.8613 - val_loss: 0.4200 - val_acc: 0.8464\n",
      "Epoch 6/50\n",
      "20000/20000 [==============================] - 4s 202us/step - loss: 0.3882 - acc: 0.8663 - val_loss: 0.4065 - val_acc: 0.8530\n",
      "Epoch 7/50\n",
      "20000/20000 [==============================] - 3s 142us/step - loss: 0.3722 - acc: 0.8731 - val_loss: 0.3982 - val_acc: 0.8528\n",
      "Epoch 8/50\n",
      "20000/20000 [==============================] - 2s 123us/step - loss: 0.3591 - acc: 0.8769 - val_loss: 0.3902 - val_acc: 0.8546\n",
      "Epoch 9/50\n",
      "20000/20000 [==============================] - 2s 115us/step - loss: 0.3500 - acc: 0.8803 - val_loss: 0.3834 - val_acc: 0.8594\n",
      "Epoch 10/50\n",
      "20000/20000 [==============================] - 3s 130us/step - loss: 0.3407 - acc: 0.8819 - val_loss: 0.3794 - val_acc: 0.8606\n",
      "Epoch 11/50\n",
      "20000/20000 [==============================] - 2s 113us/step - loss: 0.3341 - acc: 0.8826 - val_loss: 0.3736 - val_acc: 0.8586\n",
      "Epoch 12/50\n",
      "20000/20000 [==============================] - 3s 143us/step - loss: 0.3280 - acc: 0.8862 - val_loss: 0.3714 - val_acc: 0.8596\n",
      "Epoch 13/50\n",
      "20000/20000 [==============================] - 2s 123us/step - loss: 0.3223 - acc: 0.8876 - val_loss: 0.3684 - val_acc: 0.8604\n",
      "Epoch 14/50\n",
      "20000/20000 [==============================] - 2s 121us/step - loss: 0.3175 - acc: 0.8883 - val_loss: 0.3649 - val_acc: 0.8616\n",
      "Epoch 15/50\n",
      "20000/20000 [==============================] - 3s 131us/step - loss: 0.3128 - acc: 0.8907 - val_loss: 0.3626 - val_acc: 0.8626\n",
      "Epoch 16/50\n",
      "20000/20000 [==============================] - 4s 202us/step - loss: 0.3077 - acc: 0.8924 - val_loss: 0.3614 - val_acc: 0.8614\n",
      "Epoch 17/50\n",
      "20000/20000 [==============================] - 3s 158us/step - loss: 0.3051 - acc: 0.8935 - val_loss: 0.3583 - val_acc: 0.8618\n",
      "Epoch 18/50\n",
      "20000/20000 [==============================] - 3s 144us/step - loss: 0.2998 - acc: 0.8942 - val_loss: 0.3580 - val_acc: 0.8610\n",
      "Epoch 19/50\n",
      "20000/20000 [==============================] - 4s 194us/step - loss: 0.2972 - acc: 0.8964 - val_loss: 0.3557 - val_acc: 0.8624\n",
      "Epoch 20/50\n",
      "20000/20000 [==============================] - 4s 175us/step - loss: 0.2938 - acc: 0.8947 - val_loss: 0.3562 - val_acc: 0.8620\n",
      "Epoch 21/50\n",
      "20000/20000 [==============================] - 4s 182us/step - loss: 0.2913 - acc: 0.8959 - val_loss: 0.3535 - val_acc: 0.8614\n",
      "Epoch 22/50\n",
      "20000/20000 [==============================] - 4s 211us/step - loss: 0.2879 - acc: 0.8996 - val_loss: 0.3543 - val_acc: 0.8604\n",
      "Epoch 23/50\n",
      "20000/20000 [==============================] - 3s 150us/step - loss: 0.2850 - acc: 0.8996 - val_loss: 0.3524 - val_acc: 0.8606\n",
      "Epoch 24/50\n",
      "20000/20000 [==============================] - 3s 160us/step - loss: 0.2826 - acc: 0.9006 - val_loss: 0.3502 - val_acc: 0.8616\n",
      "Epoch 25/50\n",
      "20000/20000 [==============================] - 3s 143us/step - loss: 0.2789 - acc: 0.9009 - val_loss: 0.3509 - val_acc: 0.8618\n",
      "Epoch 26/50\n",
      "20000/20000 [==============================] - 3s 135us/step - loss: 0.2778 - acc: 0.9018 - val_loss: 0.3514 - val_acc: 0.8618\n",
      "Epoch 27/50\n",
      "20000/20000 [==============================] - 3s 161us/step - loss: 0.2764 - acc: 0.9025 - val_loss: 0.3494 - val_acc: 0.8650\n",
      "Epoch 28/50\n",
      "20000/20000 [==============================] - 3s 149us/step - loss: 0.2737 - acc: 0.9035 - val_loss: 0.3516 - val_acc: 0.8608\n",
      "Epoch 29/50\n",
      "20000/20000 [==============================] - 4s 198us/step - loss: 0.2716 - acc: 0.9041 - val_loss: 0.3482 - val_acc: 0.8622\n",
      "Epoch 30/50\n",
      "20000/20000 [==============================] - 3s 160us/step - loss: 0.2724 - acc: 0.9023 - val_loss: 0.3473 - val_acc: 0.8626\n",
      "Epoch 31/50\n",
      "20000/20000 [==============================] - 4s 206us/step - loss: 0.2717 - acc: 0.9009 - val_loss: 0.3472 - val_acc: 0.8626\n",
      "Epoch 32/50\n",
      "20000/20000 [==============================] - 4s 183us/step - loss: 0.2677 - acc: 0.9045 - val_loss: 0.3471 - val_acc: 0.8612\n",
      "Epoch 33/50\n",
      "20000/20000 [==============================] - 2s 123us/step - loss: 0.2658 - acc: 0.9057 - val_loss: 0.3458 - val_acc: 0.8614\n",
      "Epoch 34/50\n",
      "20000/20000 [==============================] - 2s 119us/step - loss: 0.2641 - acc: 0.9053 - val_loss: 0.3467 - val_acc: 0.8642\n",
      "Epoch 35/50\n",
      "20000/20000 [==============================] - 3s 127us/step - loss: 0.2625 - acc: 0.9050 - val_loss: 0.3469 - val_acc: 0.8638\n",
      "Epoch 36/50\n",
      "20000/20000 [==============================] - 2s 119us/step - loss: 0.2611 - acc: 0.9063 - val_loss: 0.3452 - val_acc: 0.8622\n",
      "Epoch 37/50\n",
      "20000/20000 [==============================] - 3s 126us/step - loss: 0.2594 - acc: 0.9074 - val_loss: 0.3449 - val_acc: 0.8618\n",
      "Epoch 38/50\n",
      "20000/20000 [==============================] - 2s 124us/step - loss: 0.2590 - acc: 0.9073 - val_loss: 0.3463 - val_acc: 0.8602\n",
      "Epoch 39/50\n",
      "20000/20000 [==============================] - 3s 145us/step - loss: 0.2554 - acc: 0.9082 - val_loss: 0.3468 - val_acc: 0.8614\n",
      "Epoch 40/50\n",
      "20000/20000 [==============================] - 2s 103us/step - loss: 0.2577 - acc: 0.9075 - val_loss: 0.3465 - val_acc: 0.8626\n",
      "Epoch 41/50\n",
      "20000/20000 [==============================] - 2s 115us/step - loss: 0.2546 - acc: 0.9067 - val_loss: 0.3462 - val_acc: 0.8626\n",
      "Epoch 42/50\n",
      "20000/20000 [==============================] - 3s 130us/step - loss: 0.2534 - acc: 0.9092 - val_loss: 0.3473 - val_acc: 0.8622\n",
      "Epoch 43/50\n",
      "20000/20000 [==============================] - 3s 148us/step - loss: 0.2540 - acc: 0.9087 - val_loss: 0.3452 - val_acc: 0.8632\n",
      "Epoch 44/50\n",
      "20000/20000 [==============================] - 3s 133us/step - loss: 0.2515 - acc: 0.9098 - val_loss: 0.3458 - val_acc: 0.8632\n",
      "Epoch 45/50\n",
      "20000/20000 [==============================] - 3s 132us/step - loss: 0.2516 - acc: 0.9096 - val_loss: 0.3448 - val_acc: 0.8610\n",
      "Epoch 46/50\n",
      "20000/20000 [==============================] - 3s 129us/step - loss: 0.2495 - acc: 0.9103 - val_loss: 0.3457 - val_acc: 0.8622\n",
      "Epoch 47/50\n",
      "20000/20000 [==============================] - 2s 118us/step - loss: 0.2506 - acc: 0.9084 - val_loss: 0.3470 - val_acc: 0.8630\n",
      "Epoch 48/50\n",
      "20000/20000 [==============================] - 2s 109us/step - loss: 0.2464 - acc: 0.9123 - val_loss: 0.3458 - val_acc: 0.8628\n",
      "Epoch 49/50\n",
      "20000/20000 [==============================] - 2s 118us/step - loss: 0.2472 - acc: 0.9124 - val_loss: 0.3464 - val_acc: 0.8636\n",
      "Epoch 50/50\n",
      "20000/20000 [==============================] - 2s 118us/step - loss: 0.2465 - acc: 0.9110 - val_loss: 0.3476 - val_acc: 0.8612\n"
     ]
    },
    {
     "data": {
      "image/png": "[encoded data removed]",
      "text/plain": [
       "<matplotlib.figure.Figure at 0x11cee85c0>"
      ]
     },
     "metadata": {},
     "output_type": "display_data"
    },
    {
     "data": {
      "image/png": "[encoded data removed]",
      "text/plain": [
       "<matplotlib.figure.Figure at 0x11d1782b0>"
      ]
     },
     "metadata": {},
     "output_type": "display_data"
    }
   ],
   "source": [
    "train_model(dropout=1,regularize=1,epochs=50)"
   ]
  },
  {
   "cell_type": "markdown",
   "metadata": {},
   "source": [
    "# embedding layer with words in validation data shuffled\n",
    "notice how this doesn't have an effect"
   ]
  },
  {
   "cell_type": "code",
   "execution_count": 8,
   "metadata": {},
   "outputs": [
    {
     "name": "stdout",
     "output_type": "stream",
     "text": [
      "_________________________________________________________________\n",
      "Layer (type)                 Output Shape              Param #   \n",
      "=================================================================\n",
      "embedding_3 (Embedding)      (None, 100, 8)            160000    \n",
      "_________________________________________________________________\n",
      "flatten_2 (Flatten)          (None, 800)               0         \n",
      "_________________________________________________________________\n",
      "dense_2 (Dense)              (None, 1)                 801       \n",
      "=================================================================\n",
      "Total params: 160,801\n",
      "Trainable params: 160,801\n",
      "Non-trainable params: 0\n",
      "_________________________________________________________________\n",
      "INFO: total_train_size=25000 train_size=20000\n",
      "VAL_SHAPE: x_val=(5000, 100) y_val=(5000,)\n",
      "INFO: validation data shuffle enabled\n",
      "Train on 20000 samples, validate on 5000 samples\n",
      "Epoch 1/5\n",
      "20000/20000 [==============================] - 2s 125us/step - loss: 0.6097 - acc: 0.6902 - val_loss: 0.4660 - val_acc: 0.8060\n",
      "Epoch 2/5\n",
      "20000/20000 [==============================] - 2s 92us/step - loss: 0.3576 - acc: 0.8566 - val_loss: 0.3617 - val_acc: 0.8386\n",
      "Epoch 3/5\n",
      "20000/20000 [==============================] - 3s 148us/step - loss: 0.2783 - acc: 0.8870 - val_loss: 0.3378 - val_acc: 0.8528\n",
      "Epoch 4/5\n",
      "20000/20000 [==============================] - 3s 128us/step - loss: 0.2399 - acc: 0.9049 - val_loss: 0.3384 - val_acc: 0.8502\n",
      "Epoch 5/5\n",
      "20000/20000 [==============================] - 2s 87us/step - loss: 0.2129 - acc: 0.9161 - val_loss: 0.3387 - val_acc: 0.8534\n"
     ]
    },
    {
     "data": {
      "image/png": "[encoded data removed]",
      "text/plain": [
       "<matplotlib.figure.Figure at 0x121caab70>"
      ]
     },
     "metadata": {},
     "output_type": "display_data"
    },
    {
     "data": {
      "image/png": "[encoded data removed]",
      "text/plain": [
       "<matplotlib.figure.Figure at 0x121e9c128>"
      ]
     },
     "metadata": {},
     "output_type": "display_data"
    }
   ],
   "source": [
    "train_model(epochs=5)"
   ]
  },
  {
   "cell_type": "markdown",
   "metadata": {},
   "source": [
    "# simpleRNN"
   ]
  },
  {
   "cell_type": "code",
   "execution_count": 391,
   "metadata": {},
   "outputs": [
    {
     "name": "stdout",
     "output_type": "stream",
     "text": [
      "10\n",
      "(40,)\n"
     ]
    }
   ],
   "source": [
    "# simple RNN like implementation with numpy\n",
    "import numpy as np\n",
    "\n",
    "timesteps       = 10\n",
    "input_features  = 2\n",
    "output_features = 4\n",
    "\n",
    "inputs = np.random.random((timesteps, input_features))\n",
    "\n",
    "state_t = np.zeros((output_features,))\n",
    "\n",
    "W = np.random.random((output_features, input_features))\n",
    "U = np.random.random((output_features, output_features))\n",
    "b = np.random.random((output_features,))\n",
    "\n",
    "successive_outputs = []\n",
    "for input_t in inputs:\n",
    "    # tanh => -1,1\n",
    "    output_t = np.tanh(np.dot(W, input_t) + np.dot(U, state_t) + b)\n",
    "    #  store all outputs\n",
    "    successive_outputs.append(output_t)\n",
    "    \n",
    "    # state_t is now used in the next timestamp\n",
    "    state_t = output_t\n",
    "\n",
    "print(len(successive_outputs))\n",
    "final_output_sequence = np.concatenate(successive_outputs, axis=0)\n",
    "print(final_output_sequence.shape)"
   ]
  },
  {
   "cell_type": "code",
   "execution_count": 13,
   "metadata": {},
   "outputs": [],
   "source": [
    "from keras.layers import Dense\n",
    "from keras.layers import SimpleRNN\n",
    "\n",
    "def train_simpleRNN(epochs=10,shuffle_val_data=0,batch_size=128):\n",
    "    # using the data already read from the IMDB, but, using the first 500 words this time\n",
    "    long_len = 500\n",
    "\n",
    "    # pad sequences with length < maxlen with 0\n",
    "    x_train_long = preprocessing.sequence.pad_sequences(x_train_orig, maxlen=long_len)\n",
    "    x_test_long  = preprocessing.sequence.pad_sequences(x_test_orig,  maxlen=long_len)\n",
    "\n",
    "    total_train_samples = x_train.shape[0]\n",
    "    train_size = int(0.8 * total_train_samples)\n",
    "    print (\"INFO: total_train_size=%d train_size=%d\" %(total_train_samples,train_size))\n",
    "    \n",
    "    x_train_tst = x_train_long[:train_size] #np.random.randint(low=0,high=max_features,size=(100,20))\n",
    "    y_train_tst = y_train     [:train_size] #np.random.randint(low=0,high=2           ,size=(100))\n",
    "    x_val       = x_train_long[train_size:]\n",
    "    y_val       = y_train     [train_size:]\n",
    "\n",
    "    print (\"TRAIN_SHAPE:x=%s y=%s\" %(x_train_tst.shape,y_train_tst.shape))\n",
    "\n",
    "    if shuffle_val_data:\n",
    "            print (\"INFO: validation data shuffle enabled\")\n",
    "            for indx,x_ent in enumerate(x_val):\n",
    "                np.random.shuffle(x_ent)\n",
    "                x_val[indx] = x_ent\n",
    "\n",
    "    model = Sequential()\n",
    "    model.add(Embedding(max_features, 64))\n",
    "    model.add(SimpleRNN(64))\n",
    "    model.add(Dense(1, activation='sigmoid'))\n",
    "    model.summary()\n",
    "    model.compile(optimizer='rmsprop', loss='binary_crossentropy', metrics=['acc'])\n",
    "\n",
    "    history = model.fit(x_train_tst, y_train_tst,\n",
    "                        epochs=epochs,\n",
    "                        batch_size=batch_size,\n",
    "                        validation_data=(x_val,y_val))"
   ]
  },
  {
   "cell_type": "markdown",
   "metadata": {},
   "source": [
    "# simpleRNN without validation-data shuffle\n",
    "notice that the validation accuracy is high"
   ]
  },
  {
   "cell_type": "code",
   "execution_count": 17,
   "metadata": {},
   "outputs": [
    {
     "name": "stdout",
     "output_type": "stream",
     "text": [
      "INFO: total_train_size=25000 train_size=15000\n",
      "TRAIN_SHAPE:x=(15000, 500) y=(15000,)\n",
      "_________________________________________________________________\n",
      "Layer (type)                 Output Shape              Param #   \n",
      "=================================================================\n",
      "embedding_10 (Embedding)     (None, None, 64)          1280000   \n",
      "_________________________________________________________________\n",
      "simple_rnn_6 (SimpleRNN)     (None, 64)                8256      \n",
      "_________________________________________________________________\n",
      "dense_8 (Dense)              (None, 1)                 65        \n",
      "=================================================================\n",
      "Total params: 1,288,321\n",
      "Trainable params: 1,288,321\n",
      "Non-trainable params: 0\n",
      "_________________________________________________________________\n",
      "Train on 15000 samples, validate on 10000 samples\n",
      "Epoch 1/10\n",
      "15000/15000 [==============================] - 45s 3ms/step - loss: 0.6538 - acc: 0.6025 - val_loss: 0.4750 - val_acc: 0.7787\n",
      "Epoch 2/10\n",
      "15000/15000 [==============================] - 43s 3ms/step - loss: 0.4131 - acc: 0.8155 - val_loss: 0.4163 - val_acc: 0.8154\n",
      "Epoch 3/10\n",
      "15000/15000 [==============================] - 45s 3ms/step - loss: 0.3017 - acc: 0.8795 - val_loss: 0.4106 - val_acc: 0.8163\n",
      "Epoch 4/10\n",
      "15000/15000 [==============================] - 43s 3ms/step - loss: 0.2207 - acc: 0.9163 - val_loss: 0.4485 - val_acc: 0.7965\n",
      "Epoch 5/10\n",
      "15000/15000 [==============================] - 42s 3ms/step - loss: 0.1968 - acc: 0.9229 - val_loss: 0.5042 - val_acc: 0.8183\n",
      "Epoch 6/10\n",
      "15000/15000 [==============================] - 43s 3ms/step - loss: 0.2850 - acc: 0.8783 - val_loss: 0.7462 - val_acc: 0.7069\n",
      "Epoch 7/10\n",
      "15000/15000 [==============================] - 43s 3ms/step - loss: 0.1110 - acc: 0.9597 - val_loss: 0.5147 - val_acc: 0.8305\n",
      "Epoch 8/10\n",
      "15000/15000 [==============================] - 43s 3ms/step - loss: 0.0615 - acc: 0.9794 - val_loss: 0.5716 - val_acc: 0.8169\n",
      "Epoch 9/10\n",
      "15000/15000 [==============================] - 44s 3ms/step - loss: 0.0980 - acc: 0.9636 - val_loss: 0.8192 - val_acc: 0.7339\n",
      "Epoch 10/10\n",
      "15000/15000 [==============================] - 43s 3ms/step - loss: 0.0447 - acc: 0.9839 - val_loss: 0.6624 - val_acc: 0.8021\n"
     ]
    }
   ],
   "source": [
    "train_simpleRNN(epochs=10,shuffle_val_data=0)"
   ]
  },
  {
   "cell_type": "markdown",
   "metadata": {},
   "source": [
    "# simpleRNN with validation-data shuffle\n",
    "notice that the validation accuracy is now lower .. this is as expected, with RNN, the order of the words matter"
   ]
  },
  {
   "cell_type": "code",
   "execution_count": 16,
   "metadata": {},
   "outputs": [
    {
     "name": "stdout",
     "output_type": "stream",
     "text": [
      "INFO: total_train_size=25000 train_size=15000\n",
      "TRAIN_SHAPE:x=(15000, 500) y=(15000,)\n",
      "INFO: validation data shuffle enabled\n",
      "_________________________________________________________________\n",
      "Layer (type)                 Output Shape              Param #   \n",
      "=================================================================\n",
      "embedding_9 (Embedding)      (None, None, 64)          1280000   \n",
      "_________________________________________________________________\n",
      "simple_rnn_5 (SimpleRNN)     (None, 64)                8256      \n",
      "_________________________________________________________________\n",
      "dense_7 (Dense)              (None, 1)                 65        \n",
      "=================================================================\n",
      "Total params: 1,288,321\n",
      "Trainable params: 1,288,321\n",
      "Non-trainable params: 0\n",
      "_________________________________________________________________\n",
      "Train on 15000 samples, validate on 10000 samples\n",
      "Epoch 1/10\n",
      "15000/15000 [==============================] - 43s 3ms/step - loss: 0.6670 - acc: 0.5820 - val_loss: 0.7651 - val_acc: 0.5595\n",
      "Epoch 2/10\n",
      "15000/15000 [==============================] - 42s 3ms/step - loss: 0.4628 - acc: 0.7925 - val_loss: 1.1114 - val_acc: 0.5497\n",
      "Epoch 3/10\n",
      "15000/15000 [==============================] - 43s 3ms/step - loss: 0.3041 - acc: 0.8773 - val_loss: 1.0214 - val_acc: 0.5390\n",
      "Epoch 4/10\n",
      "15000/15000 [==============================] - 42s 3ms/step - loss: 0.2375 - acc: 0.9041 - val_loss: 0.9618 - val_acc: 0.5782\n",
      "Epoch 5/10\n",
      "15000/15000 [==============================] - 48s 3ms/step - loss: 0.2159 - acc: 0.9157 - val_loss: 0.9917 - val_acc: 0.6230\n",
      "Epoch 6/10\n",
      "15000/15000 [==============================] - 47s 3ms/step - loss: 0.0952 - acc: 0.9671 - val_loss: 1.6197 - val_acc: 0.5993\n",
      "Epoch 7/10\n",
      "15000/15000 [==============================] - 48s 3ms/step - loss: 0.0559 - acc: 0.9818 - val_loss: 1.1860 - val_acc: 0.5583\n",
      "Epoch 8/10\n",
      "15000/15000 [==============================] - 43s 3ms/step - loss: 0.0294 - acc: 0.9919 - val_loss: 1.7669 - val_acc: 0.5479\n",
      "Epoch 9/10\n",
      "15000/15000 [==============================] - 43s 3ms/step - loss: 0.0986 - acc: 0.9620 - val_loss: 2.2531 - val_acc: 0.5614\n",
      "Epoch 10/10\n",
      "15000/15000 [==============================] - 42s 3ms/step - loss: 0.0318 - acc: 0.9901 - val_loss: 3.0748 - val_acc: 0.5283\n"
     ]
    }
   ],
   "source": [
    "train_simpleRNN(epochs=10,shuffle_val_data=1)"
   ]
  },
  {
   "cell_type": "code",
   "execution_count": null,
   "metadata": {},
   "outputs": [],
   "source": []
  }
 ],
 "metadata": {
  "kernelspec": {
   "display_name": "Python 3",
   "language": "python",
   "name": "python3"
  },
  "language_info": {
   "codemirror_mode": {
    "name": "ipython",
    "version": 3
   },
   "file_extension": ".py",
   "mimetype": "text/x-python",
   "name": "python",
   "nbconvert_exporter": "python",
   "pygments_lexer": "ipython3",
   "version": "3.6.3"
  }
 },
 "nbformat": 4,
 "nbformat_minor": 2
}
